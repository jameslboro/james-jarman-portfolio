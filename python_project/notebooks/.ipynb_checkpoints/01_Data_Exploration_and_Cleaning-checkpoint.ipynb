{
 "cells": [
  {
   "cell_type": "code",
   "execution_count": 7,
   "id": "695525d6-bbeb-40ec-b335-d83a8be0418f",
   "metadata": {},
   "outputs": [],
   "source": [
    "import pandas as pd\n",
    "import matplotlib.pyplot as plt\n",
    "import seaborn as sns"
   ]
  },
  {
   "cell_type": "code",
   "execution_count": 17,
   "id": "cf75709e-49b3-459d-b5c3-af66a9b3fbff",
   "metadata": {},
   "outputs": [],
   "source": [
    "# Column Descriptions\n",
    "\n",
    "# City: The name of the city where the air quality measurement was taken.\n",
    "# Country: The country in which the city is located.\n",
    "# Date: The date when the measurement was recorded.\n",
    "# PM2.5: The concentration of fine particulate matter with a diameter of less than 2.5 micrometers (µg/m³).\n",
    "# PM10: The concentration of particulate matter with a diameter of less than 10 micrometers (µg/m³).\n",
    "# NO2: The concentration of nitrogen dioxide (µg/m³).\n",
    "# SO2: The concentration of sulfur dioxide (µg/m³).\n",
    "# CO: The concentration of carbon monoxide (mg/m³).\n",
    "# O3: The concentration of ozone (µg/m³).\n",
    "# Temperature: The temperature at the time of measurement (°C).\n",
    "# Humidity: The humidity level at the time of measurement (%).\n",
    "# Wind Speed: The wind speed at the time of measurement (m/s)."
   ]
  },
  {
   "cell_type": "code",
   "execution_count": 16,
   "id": "0f203222-43cf-499a-a243-5b8db3e84f34",
   "metadata": {},
   "outputs": [
    {
     "data": {
      "text/html": [
       "<div>\n",
       "<style scoped>\n",
       "    .dataframe tbody tr th:only-of-type {\n",
       "        vertical-align: middle;\n",
       "    }\n",
       "\n",
       "    .dataframe tbody tr th {\n",
       "        vertical-align: top;\n",
       "    }\n",
       "\n",
       "    .dataframe thead th {\n",
       "        text-align: right;\n",
       "    }\n",
       "</style>\n",
       "<table border=\"1\" class=\"dataframe\">\n",
       "  <thead>\n",
       "    <tr style=\"text-align: right;\">\n",
       "      <th></th>\n",
       "      <th>City</th>\n",
       "      <th>Country</th>\n",
       "      <th>Date</th>\n",
       "      <th>PM2.5</th>\n",
       "      <th>PM10</th>\n",
       "      <th>NO2</th>\n",
       "      <th>SO2</th>\n",
       "      <th>CO</th>\n",
       "      <th>O3</th>\n",
       "      <th>Temperature</th>\n",
       "      <th>Humidity</th>\n",
       "      <th>Wind Speed</th>\n",
       "    </tr>\n",
       "  </thead>\n",
       "  <tbody>\n",
       "    <tr>\n",
       "      <th>0</th>\n",
       "      <td>Bangkok</td>\n",
       "      <td>Thailand</td>\n",
       "      <td>2023-03-19</td>\n",
       "      <td>86.57</td>\n",
       "      <td>25.19</td>\n",
       "      <td>99.88</td>\n",
       "      <td>30.63</td>\n",
       "      <td>4.46</td>\n",
       "      <td>36.29</td>\n",
       "      <td>17.67</td>\n",
       "      <td>59.35</td>\n",
       "      <td>13.76</td>\n",
       "    </tr>\n",
       "    <tr>\n",
       "      <th>1</th>\n",
       "      <td>Istanbul</td>\n",
       "      <td>Turkey</td>\n",
       "      <td>2023-02-16</td>\n",
       "      <td>50.63</td>\n",
       "      <td>97.39</td>\n",
       "      <td>48.14</td>\n",
       "      <td>8.71</td>\n",
       "      <td>3.40</td>\n",
       "      <td>144.16</td>\n",
       "      <td>3.46</td>\n",
       "      <td>67.51</td>\n",
       "      <td>6.36</td>\n",
       "    </tr>\n",
       "    <tr>\n",
       "      <th>2</th>\n",
       "      <td>Rio de Janeiro</td>\n",
       "      <td>Brazil</td>\n",
       "      <td>2023-11-13</td>\n",
       "      <td>130.21</td>\n",
       "      <td>57.22</td>\n",
       "      <td>98.51</td>\n",
       "      <td>9.92</td>\n",
       "      <td>0.12</td>\n",
       "      <td>179.31</td>\n",
       "      <td>25.29</td>\n",
       "      <td>29.30</td>\n",
       "      <td>12.87</td>\n",
       "    </tr>\n",
       "    <tr>\n",
       "      <th>3</th>\n",
       "      <td>Mumbai</td>\n",
       "      <td>India</td>\n",
       "      <td>2023-03-16</td>\n",
       "      <td>119.70</td>\n",
       "      <td>130.52</td>\n",
       "      <td>10.96</td>\n",
       "      <td>33.03</td>\n",
       "      <td>7.74</td>\n",
       "      <td>38.65</td>\n",
       "      <td>23.15</td>\n",
       "      <td>99.97</td>\n",
       "      <td>7.71</td>\n",
       "    </tr>\n",
       "    <tr>\n",
       "      <th>4</th>\n",
       "      <td>Paris</td>\n",
       "      <td>France</td>\n",
       "      <td>2023-04-04</td>\n",
       "      <td>55.20</td>\n",
       "      <td>36.62</td>\n",
       "      <td>76.85</td>\n",
       "      <td>21.85</td>\n",
       "      <td>2.00</td>\n",
       "      <td>67.09</td>\n",
       "      <td>16.02</td>\n",
       "      <td>90.28</td>\n",
       "      <td>14.16</td>\n",
       "    </tr>\n",
       "  </tbody>\n",
       "</table>\n",
       "</div>"
      ],
      "text/plain": [
       "             City   Country        Date   PM2.5    PM10    NO2    SO2    CO  \\\n",
       "0         Bangkok  Thailand  2023-03-19   86.57   25.19  99.88  30.63  4.46   \n",
       "1        Istanbul    Turkey  2023-02-16   50.63   97.39  48.14   8.71  3.40   \n",
       "2  Rio de Janeiro    Brazil  2023-11-13  130.21   57.22  98.51   9.92  0.12   \n",
       "3          Mumbai     India  2023-03-16  119.70  130.52  10.96  33.03  7.74   \n",
       "4           Paris    France  2023-04-04   55.20   36.62  76.85  21.85  2.00   \n",
       "\n",
       "       O3  Temperature  Humidity  Wind Speed  \n",
       "0   36.29        17.67     59.35       13.76  \n",
       "1  144.16         3.46     67.51        6.36  \n",
       "2  179.31        25.29     29.30       12.87  \n",
       "3   38.65        23.15     99.97        7.71  \n",
       "4   67.09        16.02     90.28       14.16  "
      ]
     },
     "execution_count": 16,
     "metadata": {},
     "output_type": "execute_result"
    }
   ],
   "source": [
    "df = pd.read_csv('C:/Users/james/james-jarman-portfolio/Python_Project/data/global_air_quality_data_10000.csv')\n",
    "df.head()"
   ]
  },
  {
   "cell_type": "code",
   "execution_count": 24,
   "id": "24ee58b8-8fea-44b0-882d-1f1da9e40a4c",
   "metadata": {},
   "outputs": [
    {
     "data": {
      "text/plain": [
       "(10000, 12)"
      ]
     },
     "execution_count": 24,
     "metadata": {},
     "output_type": "execute_result"
    }
   ],
   "source": [
    "df.shape"
   ]
  },
  {
   "cell_type": "code",
   "execution_count": 18,
   "id": "56729542-3803-498b-a7b4-10031e9b62d5",
   "metadata": {},
   "outputs": [
    {
     "data": {
      "text/plain": [
       "City           0\n",
       "Country        0\n",
       "Date           0\n",
       "PM2.5          0\n",
       "PM10           0\n",
       "NO2            0\n",
       "SO2            0\n",
       "CO             0\n",
       "O3             0\n",
       "Temperature    0\n",
       "Humidity       0\n",
       "Wind Speed     0\n",
       "dtype: int64"
      ]
     },
     "execution_count": 18,
     "metadata": {},
     "output_type": "execute_result"
    }
   ],
   "source": [
    "df.isnull().sum()"
   ]
  },
  {
   "cell_type": "code",
   "execution_count": 20,
   "id": "633e7e3f-628b-404b-88f6-7d56e2763cc4",
   "metadata": {},
   "outputs": [
    {
     "data": {
      "text/plain": [
       "City            object\n",
       "Country         object\n",
       "Date            object\n",
       "PM2.5          float64\n",
       "PM10           float64\n",
       "NO2            float64\n",
       "SO2            float64\n",
       "CO             float64\n",
       "O3             float64\n",
       "Temperature    float64\n",
       "Humidity       float64\n",
       "Wind Speed     float64\n",
       "dtype: object"
      ]
     },
     "execution_count": 20,
     "metadata": {},
     "output_type": "execute_result"
    }
   ],
   "source": [
    "df.dtypes"
   ]
  },
  {
   "cell_type": "code",
   "execution_count": 23,
   "id": "f20abe9f-f43f-4b0a-8144-d2cee0770ec0",
   "metadata": {},
   "outputs": [
    {
     "name": "stdout",
     "output_type": "stream",
     "text": [
      "datetime64[ns]\n"
     ]
    },
    {
     "data": {
      "text/html": [
       "<div>\n",
       "<style scoped>\n",
       "    .dataframe tbody tr th:only-of-type {\n",
       "        vertical-align: middle;\n",
       "    }\n",
       "\n",
       "    .dataframe tbody tr th {\n",
       "        vertical-align: top;\n",
       "    }\n",
       "\n",
       "    .dataframe thead th {\n",
       "        text-align: right;\n",
       "    }\n",
       "</style>\n",
       "<table border=\"1\" class=\"dataframe\">\n",
       "  <thead>\n",
       "    <tr style=\"text-align: right;\">\n",
       "      <th></th>\n",
       "      <th>City</th>\n",
       "      <th>Country</th>\n",
       "      <th>Date</th>\n",
       "      <th>PM2.5</th>\n",
       "      <th>PM10</th>\n",
       "      <th>NO2</th>\n",
       "      <th>SO2</th>\n",
       "      <th>CO</th>\n",
       "      <th>O3</th>\n",
       "      <th>Temperature</th>\n",
       "      <th>Humidity</th>\n",
       "      <th>Wind Speed</th>\n",
       "    </tr>\n",
       "  </thead>\n",
       "  <tbody>\n",
       "    <tr>\n",
       "      <th>0</th>\n",
       "      <td>Bangkok</td>\n",
       "      <td>Thailand</td>\n",
       "      <td>2023-03-19</td>\n",
       "      <td>86.57</td>\n",
       "      <td>25.19</td>\n",
       "      <td>99.88</td>\n",
       "      <td>30.63</td>\n",
       "      <td>4.46</td>\n",
       "      <td>36.29</td>\n",
       "      <td>17.67</td>\n",
       "      <td>59.35</td>\n",
       "      <td>13.76</td>\n",
       "    </tr>\n",
       "    <tr>\n",
       "      <th>1</th>\n",
       "      <td>Istanbul</td>\n",
       "      <td>Turkey</td>\n",
       "      <td>2023-02-16</td>\n",
       "      <td>50.63</td>\n",
       "      <td>97.39</td>\n",
       "      <td>48.14</td>\n",
       "      <td>8.71</td>\n",
       "      <td>3.40</td>\n",
       "      <td>144.16</td>\n",
       "      <td>3.46</td>\n",
       "      <td>67.51</td>\n",
       "      <td>6.36</td>\n",
       "    </tr>\n",
       "    <tr>\n",
       "      <th>2</th>\n",
       "      <td>Rio de Janeiro</td>\n",
       "      <td>Brazil</td>\n",
       "      <td>2023-11-13</td>\n",
       "      <td>130.21</td>\n",
       "      <td>57.22</td>\n",
       "      <td>98.51</td>\n",
       "      <td>9.92</td>\n",
       "      <td>0.12</td>\n",
       "      <td>179.31</td>\n",
       "      <td>25.29</td>\n",
       "      <td>29.30</td>\n",
       "      <td>12.87</td>\n",
       "    </tr>\n",
       "    <tr>\n",
       "      <th>3</th>\n",
       "      <td>Mumbai</td>\n",
       "      <td>India</td>\n",
       "      <td>2023-03-16</td>\n",
       "      <td>119.70</td>\n",
       "      <td>130.52</td>\n",
       "      <td>10.96</td>\n",
       "      <td>33.03</td>\n",
       "      <td>7.74</td>\n",
       "      <td>38.65</td>\n",
       "      <td>23.15</td>\n",
       "      <td>99.97</td>\n",
       "      <td>7.71</td>\n",
       "    </tr>\n",
       "    <tr>\n",
       "      <th>4</th>\n",
       "      <td>Paris</td>\n",
       "      <td>France</td>\n",
       "      <td>2023-04-04</td>\n",
       "      <td>55.20</td>\n",
       "      <td>36.62</td>\n",
       "      <td>76.85</td>\n",
       "      <td>21.85</td>\n",
       "      <td>2.00</td>\n",
       "      <td>67.09</td>\n",
       "      <td>16.02</td>\n",
       "      <td>90.28</td>\n",
       "      <td>14.16</td>\n",
       "    </tr>\n",
       "  </tbody>\n",
       "</table>\n",
       "</div>"
      ],
      "text/plain": [
       "             City   Country       Date   PM2.5    PM10    NO2    SO2    CO  \\\n",
       "0         Bangkok  Thailand 2023-03-19   86.57   25.19  99.88  30.63  4.46   \n",
       "1        Istanbul    Turkey 2023-02-16   50.63   97.39  48.14   8.71  3.40   \n",
       "2  Rio de Janeiro    Brazil 2023-11-13  130.21   57.22  98.51   9.92  0.12   \n",
       "3          Mumbai     India 2023-03-16  119.70  130.52  10.96  33.03  7.74   \n",
       "4           Paris    France 2023-04-04   55.20   36.62  76.85  21.85  2.00   \n",
       "\n",
       "       O3  Temperature  Humidity  Wind Speed  \n",
       "0   36.29        17.67     59.35       13.76  \n",
       "1  144.16         3.46     67.51        6.36  \n",
       "2  179.31        25.29     29.30       12.87  \n",
       "3   38.65        23.15     99.97        7.71  \n",
       "4   67.09        16.02     90.28       14.16  "
      ]
     },
     "execution_count": 23,
     "metadata": {},
     "output_type": "execute_result"
    }
   ],
   "source": [
    "df['Date'] = pd.to_datetime(df['Date'], format='%Y-%m-%d')\n",
    "print(df['Date'].dtype)\n",
    "df.head()"
   ]
  },
  {
   "cell_type": "code",
   "execution_count": 26,
   "id": "c9a84d69-c8e6-4a5a-9ada-26122337f1b2",
   "metadata": {},
   "outputs": [
    {
     "data": {
      "text/plain": [
       "np.int64(0)"
      ]
     },
     "execution_count": 26,
     "metadata": {},
     "output_type": "execute_result"
    }
   ],
   "source": [
    "df.duplicated().sum()"
   ]
  },
  {
   "cell_type": "code",
   "execution_count": null,
   "id": "b46a0c26-bd27-45b5-9a4c-981c8f3850eb",
   "metadata": {},
   "outputs": [],
   "source": []
  }
 ],
 "metadata": {
  "kernelspec": {
   "display_name": "Python 3 (ipykernel)",
   "language": "python",
   "name": "python3"
  },
  "language_info": {
   "codemirror_mode": {
    "name": "ipython",
    "version": 3
   },
   "file_extension": ".py",
   "mimetype": "text/x-python",
   "name": "python",
   "nbconvert_exporter": "python",
   "pygments_lexer": "ipython3",
   "version": "3.13.2"
  }
 },
 "nbformat": 4,
 "nbformat_minor": 5
}
