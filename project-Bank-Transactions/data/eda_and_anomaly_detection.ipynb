{
 "cells": [
  {
   "cell_type": "markdown",
   "id": "b3259ac4",
   "metadata": {},
   "source": [
    "# Exploratory Analysis of Bank Transactions and Anomaly Detection"
   ]
  },
  {
   "cell_type": "markdown",
   "id": "4e52409b",
   "metadata": {},
   "source": [
    "---"
   ]
  },
  {
   "cell_type": "markdown",
   "id": "e679344f",
   "metadata": {},
   "source": [
    "## Introduction & Objective"
   ]
  },
  {
   "cell_type": "markdown",
   "id": "9e1caf20",
   "metadata": {},
   "source": [
    "This project explores a bank transaction dataset to uncover insights into user financial behaviour and identify potential anomalies or suspicious activity. Using Python and common data analysis tools, we will clean, explore, and visualise the data to simulate real-world financial analytics processes. This work serves as a practical portfolio project to demonstrate key data analysis skills."
   ]
  },
  {
   "cell_type": "markdown",
   "id": "e6b58ac7",
   "metadata": {},
   "source": [
    "### <u>Objective</u>\n",
    "The goal of this project is to analyse a sample of bank transaction data to:\n",
    "\n",
    "- Understand customer transaction behaviour across different channels, times, and locations.\n",
    "- Identify unusual or potentially fraudulent transactions using simple rule-based anomaly detection techniques.\n",
    "- Practice essential data analysis tasks including data cleaning, feature engineering, visualisation, and insight generation using Python.\n",
    "\n",
    "This project is designed as a portfolio piece for data analyst roles and focuses on real-world analytical thinking, not just code.\n",
    "\n",
    "### <u>Why This Matters</u>\n",
    "In the modern digital economy, banking systems process millions of transactions daily. Financial institutions must continuously monitor these transactions to:\n",
    "\n",
    "- Detect fraudulent activity.\n",
    "- Understand customer behaviour to improve services.\n",
    "- Maintain account security and financial integrity.\n",
    "\n",
    "By analysing patterns in transactional data, we can uncover insights that are useful for fraud detection, risk management, and product personalisation. Even with a small dataset, the techniques applied here reflect processes used in real-world analytics teams in the financial sector.\n",
    "\n",
    "### <u>About the Dataset</u>\n",
    "The dataset used in this project is titled “**Bank Transaction Dataset for Fraud Detection**” and is publicly available on Kaggle:\n",
    "[Bank Transaction Dataset for Fraud Detection - Kaggle](https://www.kaggle.com/datasets/valakhorasani/bank-transaction-dataset-for-fraud-detection)\n",
    "\n",
    "It contains 2,512 individual bank transactions with the following features:\n",
    "\n",
    "- Transaction metadata: transaction ID, amount, date, type (credit/debit), merchant, location, device, IP.\n",
    "- Account holder data: customer age, occupation, account balance, previous transaction time.\n",
    "- Interaction data: login attempts, transaction duration, channel used.\n",
    "\n",
    "These features allow us to explore both financial patterns and user behaviour across time, geography, and transaction types.\n",
    "\n",
    "### <u>Key Questions to Explore</u>\n",
    "This project aims to explore the following:\n",
    "\n",
    "1. What are the typical transaction patterns across users? (time, channel, type)\n",
    "2. Are there differences in behaviour based on customer age or occupation?\n",
    "3. How do users interact with different devices, channels, and locations?\n",
    "4. Are there transactions that appear suspicious based on volume, time, or user behaviour?\n",
    "5. Can we derive any simple rule-based indicators that may help detect anomalies?\n",
    "\n",
    "### <u>Tools & Technologies</u>\n",
    "- Python (Jupyter Notebook)\n",
    "- Pandas, NumPy for data handling and cleaning\n",
    "- Matplotlib, Seaborn, Plotly for visualisation\n",
    "- Datetime for time-based features and analysis"
   ]
  },
  {
   "cell_type": "markdown",
   "id": "196ec6ec",
   "metadata": {},
   "source": [
    "---"
   ]
  },
  {
   "cell_type": "code",
   "execution_count": 1,
   "id": "9bdd0dcd",
   "metadata": {},
   "outputs": [],
   "source": [
    "import pandas as pd\n",
    "import numpy as np\n",
    "import re\n",
    "import matplotlib.pyplot as plt\n",
    "import seaborn as sns\n",
    "import plotly.graph_objects as go"
   ]
  },
  {
   "cell_type": "markdown",
   "id": "8992b8e1",
   "metadata": {},
   "source": [
    "---"
   ]
  },
  {
   "cell_type": "markdown",
   "id": "666bdd0a",
   "metadata": {},
   "source": [
    "## Data Loading & Initial Inspection\n",
    "\n",
    "In this section, we load the dataset and conduct an initial inspection to understand its structure, data types, and completeness. This forms the foundation for all further analysis by helping us identify potential issues such as missing values, incorrect data types, and duplicate records."
   ]
  },
  {
   "cell_type": "markdown",
   "id": "dcd493b6",
   "metadata": {},
   "source": [
    "We begin by reading the CSV file into a Pandas DataFrame and displaying the first few rows to get an initial sense of the data."
   ]
  },
  {
   "cell_type": "code",
   "execution_count": 2,
   "id": "832aea37",
   "metadata": {},
   "outputs": [
    {
     "data": {
      "text/html": [
       "<div>\n",
       "<style scoped>\n",
       "    .dataframe tbody tr th:only-of-type {\n",
       "        vertical-align: middle;\n",
       "    }\n",
       "\n",
       "    .dataframe tbody tr th {\n",
       "        vertical-align: top;\n",
       "    }\n",
       "\n",
       "    .dataframe thead th {\n",
       "        text-align: right;\n",
       "    }\n",
       "</style>\n",
       "<table border=\"1\" class=\"dataframe\">\n",
       "  <thead>\n",
       "    <tr style=\"text-align: right;\">\n",
       "      <th></th>\n",
       "      <th>TransactionID</th>\n",
       "      <th>AccountID</th>\n",
       "      <th>TransactionAmount</th>\n",
       "      <th>TransactionDate</th>\n",
       "      <th>TransactionType</th>\n",
       "      <th>Location</th>\n",
       "      <th>DeviceID</th>\n",
       "      <th>IP Address</th>\n",
       "      <th>MerchantID</th>\n",
       "      <th>Channel</th>\n",
       "      <th>CustomerAge</th>\n",
       "      <th>CustomerOccupation</th>\n",
       "      <th>TransactionDuration</th>\n",
       "      <th>LoginAttempts</th>\n",
       "      <th>AccountBalance</th>\n",
       "      <th>PreviousTransactionDate</th>\n",
       "    </tr>\n",
       "  </thead>\n",
       "  <tbody>\n",
       "    <tr>\n",
       "      <th>0</th>\n",
       "      <td>TX000001</td>\n",
       "      <td>AC00128</td>\n",
       "      <td>14.09</td>\n",
       "      <td>2023-04-11 16:29:14</td>\n",
       "      <td>Debit</td>\n",
       "      <td>San Diego</td>\n",
       "      <td>D000380</td>\n",
       "      <td>162.198.218.92</td>\n",
       "      <td>M015</td>\n",
       "      <td>ATM</td>\n",
       "      <td>70</td>\n",
       "      <td>Doctor</td>\n",
       "      <td>81</td>\n",
       "      <td>1</td>\n",
       "      <td>5112.21</td>\n",
       "      <td>2024-11-04 08:08:08</td>\n",
       "    </tr>\n",
       "    <tr>\n",
       "      <th>1</th>\n",
       "      <td>TX000002</td>\n",
       "      <td>AC00455</td>\n",
       "      <td>376.24</td>\n",
       "      <td>2023-06-27 16:44:19</td>\n",
       "      <td>Debit</td>\n",
       "      <td>Houston</td>\n",
       "      <td>D000051</td>\n",
       "      <td>13.149.61.4</td>\n",
       "      <td>M052</td>\n",
       "      <td>ATM</td>\n",
       "      <td>68</td>\n",
       "      <td>Doctor</td>\n",
       "      <td>141</td>\n",
       "      <td>1</td>\n",
       "      <td>13758.91</td>\n",
       "      <td>2024-11-04 08:09:35</td>\n",
       "    </tr>\n",
       "    <tr>\n",
       "      <th>2</th>\n",
       "      <td>TX000003</td>\n",
       "      <td>AC00019</td>\n",
       "      <td>126.29</td>\n",
       "      <td>2023-07-10 18:16:08</td>\n",
       "      <td>Debit</td>\n",
       "      <td>Mesa</td>\n",
       "      <td>D000235</td>\n",
       "      <td>215.97.143.157</td>\n",
       "      <td>M009</td>\n",
       "      <td>Online</td>\n",
       "      <td>19</td>\n",
       "      <td>Student</td>\n",
       "      <td>56</td>\n",
       "      <td>1</td>\n",
       "      <td>1122.35</td>\n",
       "      <td>2024-11-04 08:07:04</td>\n",
       "    </tr>\n",
       "    <tr>\n",
       "      <th>3</th>\n",
       "      <td>TX000004</td>\n",
       "      <td>AC00070</td>\n",
       "      <td>184.50</td>\n",
       "      <td>2023-05-05 16:32:11</td>\n",
       "      <td>Debit</td>\n",
       "      <td>Raleigh</td>\n",
       "      <td>D000187</td>\n",
       "      <td>200.13.225.150</td>\n",
       "      <td>M002</td>\n",
       "      <td>Online</td>\n",
       "      <td>26</td>\n",
       "      <td>Student</td>\n",
       "      <td>25</td>\n",
       "      <td>1</td>\n",
       "      <td>8569.06</td>\n",
       "      <td>2024-11-04 08:09:06</td>\n",
       "    </tr>\n",
       "    <tr>\n",
       "      <th>4</th>\n",
       "      <td>TX000005</td>\n",
       "      <td>AC00411</td>\n",
       "      <td>13.45</td>\n",
       "      <td>2023-10-16 17:51:24</td>\n",
       "      <td>Credit</td>\n",
       "      <td>Atlanta</td>\n",
       "      <td>D000308</td>\n",
       "      <td>65.164.3.100</td>\n",
       "      <td>M091</td>\n",
       "      <td>Online</td>\n",
       "      <td>26</td>\n",
       "      <td>Student</td>\n",
       "      <td>198</td>\n",
       "      <td>1</td>\n",
       "      <td>7429.40</td>\n",
       "      <td>2024-11-04 08:06:39</td>\n",
       "    </tr>\n",
       "  </tbody>\n",
       "</table>\n",
       "</div>"
      ],
      "text/plain": [
       "  TransactionID AccountID  TransactionAmount      TransactionDate  \\\n",
       "0      TX000001   AC00128              14.09  2023-04-11 16:29:14   \n",
       "1      TX000002   AC00455             376.24  2023-06-27 16:44:19   \n",
       "2      TX000003   AC00019             126.29  2023-07-10 18:16:08   \n",
       "3      TX000004   AC00070             184.50  2023-05-05 16:32:11   \n",
       "4      TX000005   AC00411              13.45  2023-10-16 17:51:24   \n",
       "\n",
       "  TransactionType   Location DeviceID      IP Address MerchantID Channel  \\\n",
       "0           Debit  San Diego  D000380  162.198.218.92       M015     ATM   \n",
       "1           Debit    Houston  D000051     13.149.61.4       M052     ATM   \n",
       "2           Debit       Mesa  D000235  215.97.143.157       M009  Online   \n",
       "3           Debit    Raleigh  D000187  200.13.225.150       M002  Online   \n",
       "4          Credit    Atlanta  D000308    65.164.3.100       M091  Online   \n",
       "\n",
       "   CustomerAge CustomerOccupation  TransactionDuration  LoginAttempts  \\\n",
       "0           70             Doctor                   81              1   \n",
       "1           68             Doctor                  141              1   \n",
       "2           19            Student                   56              1   \n",
       "3           26            Student                   25              1   \n",
       "4           26            Student                  198              1   \n",
       "\n",
       "   AccountBalance PreviousTransactionDate  \n",
       "0         5112.21     2024-11-04 08:08:08  \n",
       "1        13758.91     2024-11-04 08:09:35  \n",
       "2         1122.35     2024-11-04 08:07:04  \n",
       "3         8569.06     2024-11-04 08:09:06  \n",
       "4         7429.40     2024-11-04 08:06:39  "
      ]
     },
     "execution_count": 2,
     "metadata": {},
     "output_type": "execute_result"
    }
   ],
   "source": [
    "# read the CSV file\n",
    "df = pd.read_csv('bank_transactions_data.csv')\n",
    "# display the first few rows of the dataframe\n",
    "df.head()"
   ]
  },
  {
   "cell_type": "markdown",
   "id": "a160ec5c",
   "metadata": {},
   "source": [
    "The `.info()` method helps us quickly examine column names, data types, and any null values. This is useful for spotting columns that may need cleaning or conversion."
   ]
  },
  {
   "cell_type": "code",
   "execution_count": 3,
   "id": "c880186d",
   "metadata": {},
   "outputs": [
    {
     "name": "stdout",
     "output_type": "stream",
     "text": [
      "<class 'pandas.core.frame.DataFrame'>\n",
      "RangeIndex: 2512 entries, 0 to 2511\n",
      "Data columns (total 16 columns):\n",
      " #   Column                   Non-Null Count  Dtype  \n",
      "---  ------                   --------------  -----  \n",
      " 0   TransactionID            2512 non-null   object \n",
      " 1   AccountID                2512 non-null   object \n",
      " 2   TransactionAmount        2512 non-null   float64\n",
      " 3   TransactionDate          2512 non-null   object \n",
      " 4   TransactionType          2512 non-null   object \n",
      " 5   Location                 2512 non-null   object \n",
      " 6   DeviceID                 2512 non-null   object \n",
      " 7   IP Address               2512 non-null   object \n",
      " 8   MerchantID               2512 non-null   object \n",
      " 9   Channel                  2512 non-null   object \n",
      " 10  CustomerAge              2512 non-null   int64  \n",
      " 11  CustomerOccupation       2512 non-null   object \n",
      " 12  TransactionDuration      2512 non-null   int64  \n",
      " 13  LoginAttempts            2512 non-null   int64  \n",
      " 14  AccountBalance           2512 non-null   float64\n",
      " 15  PreviousTransactionDate  2512 non-null   object \n",
      "dtypes: float64(2), int64(3), object(11)\n",
      "memory usage: 314.1+ KB\n"
     ]
    }
   ],
   "source": [
    "# inspect the info of the dataframe\n",
    "df.info()"
   ]
  },
  {
   "cell_type": "markdown",
   "id": "45b22008",
   "metadata": {},
   "source": [
    "It is immediately apparent that the `TransactionDate` and `PreviousTransactionDate` columns are currently of `object` data type; consequently, they should be converted to `datetime` format to facilitate time-based analysis later in the project."
   ]
  },
  {
   "cell_type": "code",
   "execution_count": 4,
   "id": "d42ed050",
   "metadata": {},
   "outputs": [
    {
     "name": "stdout",
     "output_type": "stream",
     "text": [
      "Data type of TransactionDate is now: datetime64[ns]\n",
      "Data type of PreviousTransactionDate is now: datetime64[ns]\n"
     ]
    }
   ],
   "source": [
    "# change the data type of the 'TransactionDate' column to datetime with format year-month-day hour-minute-second\n",
    "df['TransactionDate'] = pd.to_datetime(df['TransactionDate'], format='%Y-%m-%d %H:%M:%S')\n",
    "print('Data type of TransactionDate is now:', df['TransactionDate'].dtype)\n",
    "# change the data type of the 'PreviousTransactionDate' column to datetime with format year-month-day hour-minute-second\n",
    "df['PreviousTransactionDate'] = pd.to_datetime(df['PreviousTransactionDate'], format='%Y-%m-%d %H:%M:%S')\n",
    "print('Data type of PreviousTransactionDate is now:',df['PreviousTransactionDate'].dtype)"
   ]
  },
  {
   "cell_type": "markdown",
   "id": "1cbede31",
   "metadata": {},
   "source": [
    "\n",
    "It is also worth noting that each column contains 2512 non-null values, which is the exact number of bank transactions in the dataset. However, let us confirm the absence of any null values across all columns."
   ]
  },
  {
   "cell_type": "code",
   "execution_count": 5,
   "id": "55150bb0",
   "metadata": {},
   "outputs": [
    {
     "name": "stdout",
     "output_type": "stream",
     "text": [
      "TransactionID              0\n",
      "AccountID                  0\n",
      "TransactionAmount          0\n",
      "TransactionDate            0\n",
      "TransactionType            0\n",
      "Location                   0\n",
      "DeviceID                   0\n",
      "IP Address                 0\n",
      "MerchantID                 0\n",
      "Channel                    0\n",
      "CustomerAge                0\n",
      "CustomerOccupation         0\n",
      "TransactionDuration        0\n",
      "LoginAttempts              0\n",
      "AccountBalance             0\n",
      "PreviousTransactionDate    0\n",
      "dtype: int64\n"
     ]
    }
   ],
   "source": [
    "# check for missing values\n",
    "print(df.isnull().sum())"
   ]
  },
  {
   "cell_type": "markdown",
   "id": "64ac0841",
   "metadata": {},
   "source": [
    "Let us check for:\n",
    "- Exact duplicates across all columns\n",
    "- Duplicate entries based on key transaction features (excluding `TransactionID`)"
   ]
  },
  {
   "cell_type": "code",
   "execution_count": 6,
   "id": "b3970492",
   "metadata": {},
   "outputs": [
    {
     "name": "stdout",
     "output_type": "stream",
     "text": [
      "Number of exact duplicates: 0\n"
     ]
    }
   ],
   "source": [
    "# check for exact duplicates\n",
    "print('Number of exact duplicates:',df.duplicated().sum())"
   ]
  },
  {
   "cell_type": "code",
   "execution_count": 7,
   "id": "a31e5e5c",
   "metadata": {},
   "outputs": [
    {
     "name": "stdout",
     "output_type": "stream",
     "text": [
      "Number of duplicates based on key transaction features: 0\n"
     ]
    }
   ],
   "source": [
    "# check for duplicates in key transaction features (excluding TransactionID)\n",
    "duplicates = df.duplicated(subset=['AccountID', 'TransactionAmount', 'TransactionDate']).sum()\n",
    "print('Number of duplicates based on key transaction features:', duplicates)"
   ]
  },
  {
   "cell_type": "markdown",
   "id": "33e6492a",
   "metadata": {},
   "source": [
    "Understanding how many unique values exist in each column helps us distinguish between categorical and continuous data, and may highlight inconsistencies."
   ]
  },
  {
   "cell_type": "code",
   "execution_count": 8,
   "id": "8f7fdd83",
   "metadata": {},
   "outputs": [
    {
     "name": "stdout",
     "output_type": "stream",
     "text": [
      "TransactionID: 2512 unique values\n",
      "AccountID: 495 unique values\n",
      "TransactionAmount: 2455 unique values\n",
      "TransactionDate: 2512 unique values\n",
      "TransactionType: 2 unique values\n",
      "Location: 43 unique values\n",
      "DeviceID: 681 unique values\n",
      "IP Address: 592 unique values\n",
      "MerchantID: 100 unique values\n",
      "Channel: 3 unique values\n",
      "CustomerAge: 63 unique values\n",
      "CustomerOccupation: 4 unique values\n",
      "TransactionDuration: 288 unique values\n",
      "LoginAttempts: 5 unique values\n",
      "AccountBalance: 2510 unique values\n",
      "PreviousTransactionDate: 360 unique values\n"
     ]
    }
   ],
   "source": [
    "# check for unique values in each column\n",
    "for col in df.columns:\n",
    "    print(f\"{col}: {df[col].nunique()} unique values\")"
   ]
  },
  {
   "cell_type": "code",
   "execution_count": 9,
   "id": "d4e22a75",
   "metadata": {},
   "outputs": [
    {
     "name": "stdout",
     "output_type": "stream",
     "text": [
      "Unique values in TransactionType: ['Debit' 'Credit']\n",
      "Unique values in Channel: ['ATM' 'Online' 'Branch']\n"
     ]
    }
   ],
   "source": [
    "# inspect the unique values in the 'TransactionType' column\n",
    "print('Unique values in TransactionType:', df['TransactionType'].unique())\n",
    "# inspect the unique values in the 'Channel' column\n",
    "print('Unique values in Channel:', df['Channel'].unique())"
   ]
  },
  {
   "cell_type": "markdown",
   "id": "814e675e",
   "metadata": {},
   "source": [
    "Categorical columns like `TransactionType` and `Channel` are converted to the `category` datatype. This conversion aids in memory optimisation and simplifies future plotting."
   ]
  },
  {
   "cell_type": "code",
   "execution_count": 10,
   "id": "c73459a8",
   "metadata": {},
   "outputs": [
    {
     "name": "stdout",
     "output_type": "stream",
     "text": [
      "Data type of TransactionType is now: category\n",
      "Data type of Channel is now: category\n"
     ]
    }
   ],
   "source": [
    "# change the data type of the 'TransactionType' column to category\n",
    "df['TransactionType'] = df['TransactionType'].astype('category')\n",
    "print('Data type of TransactionType is now:',df['TransactionType'].dtype)\n",
    "# change the data type of the 'Channel' column to category\n",
    "df['Channel'] = df['Channel'].astype('category')\n",
    "print('Data type of Channel is now:',df['Channel'].dtype)"
   ]
  },
  {
   "cell_type": "markdown",
   "id": "9572f10d",
   "metadata": {},
   "source": [
    "We generate descriptive statistics for all columns, including both numerical and categorical variables. This provides a high-level overview of the dataset’s distribution and potential anomalies."
   ]
  },
  {
   "cell_type": "code",
   "execution_count": 11,
   "id": "2c0cb702",
   "metadata": {},
   "outputs": [
    {
     "data": {
      "text/html": [
       "<div>\n",
       "<style scoped>\n",
       "    .dataframe tbody tr th:only-of-type {\n",
       "        vertical-align: middle;\n",
       "    }\n",
       "\n",
       "    .dataframe tbody tr th {\n",
       "        vertical-align: top;\n",
       "    }\n",
       "\n",
       "    .dataframe thead th {\n",
       "        text-align: right;\n",
       "    }\n",
       "</style>\n",
       "<table border=\"1\" class=\"dataframe\">\n",
       "  <thead>\n",
       "    <tr style=\"text-align: right;\">\n",
       "      <th></th>\n",
       "      <th>TransactionID</th>\n",
       "      <th>AccountID</th>\n",
       "      <th>TransactionAmount</th>\n",
       "      <th>TransactionDate</th>\n",
       "      <th>TransactionType</th>\n",
       "      <th>Location</th>\n",
       "      <th>DeviceID</th>\n",
       "      <th>IP Address</th>\n",
       "      <th>MerchantID</th>\n",
       "      <th>Channel</th>\n",
       "      <th>CustomerAge</th>\n",
       "      <th>CustomerOccupation</th>\n",
       "      <th>TransactionDuration</th>\n",
       "      <th>LoginAttempts</th>\n",
       "      <th>AccountBalance</th>\n",
       "      <th>PreviousTransactionDate</th>\n",
       "    </tr>\n",
       "  </thead>\n",
       "  <tbody>\n",
       "    <tr>\n",
       "      <th>count</th>\n",
       "      <td>2512</td>\n",
       "      <td>2512</td>\n",
       "      <td>2512.000000</td>\n",
       "      <td>2512</td>\n",
       "      <td>2512</td>\n",
       "      <td>2512</td>\n",
       "      <td>2512</td>\n",
       "      <td>2512</td>\n",
       "      <td>2512</td>\n",
       "      <td>2512</td>\n",
       "      <td>2512.000000</td>\n",
       "      <td>2512</td>\n",
       "      <td>2512.000000</td>\n",
       "      <td>2512.000000</td>\n",
       "      <td>2512.000000</td>\n",
       "      <td>2512</td>\n",
       "    </tr>\n",
       "    <tr>\n",
       "      <th>unique</th>\n",
       "      <td>2512</td>\n",
       "      <td>495</td>\n",
       "      <td>NaN</td>\n",
       "      <td>NaN</td>\n",
       "      <td>2</td>\n",
       "      <td>43</td>\n",
       "      <td>681</td>\n",
       "      <td>592</td>\n",
       "      <td>100</td>\n",
       "      <td>3</td>\n",
       "      <td>NaN</td>\n",
       "      <td>4</td>\n",
       "      <td>NaN</td>\n",
       "      <td>NaN</td>\n",
       "      <td>NaN</td>\n",
       "      <td>NaN</td>\n",
       "    </tr>\n",
       "    <tr>\n",
       "      <th>top</th>\n",
       "      <td>TX002496</td>\n",
       "      <td>AC00460</td>\n",
       "      <td>NaN</td>\n",
       "      <td>NaN</td>\n",
       "      <td>Debit</td>\n",
       "      <td>Fort Worth</td>\n",
       "      <td>D000548</td>\n",
       "      <td>200.136.146.93</td>\n",
       "      <td>M026</td>\n",
       "      <td>Branch</td>\n",
       "      <td>NaN</td>\n",
       "      <td>Student</td>\n",
       "      <td>NaN</td>\n",
       "      <td>NaN</td>\n",
       "      <td>NaN</td>\n",
       "      <td>NaN</td>\n",
       "    </tr>\n",
       "    <tr>\n",
       "      <th>freq</th>\n",
       "      <td>1</td>\n",
       "      <td>12</td>\n",
       "      <td>NaN</td>\n",
       "      <td>NaN</td>\n",
       "      <td>1944</td>\n",
       "      <td>70</td>\n",
       "      <td>9</td>\n",
       "      <td>13</td>\n",
       "      <td>45</td>\n",
       "      <td>868</td>\n",
       "      <td>NaN</td>\n",
       "      <td>657</td>\n",
       "      <td>NaN</td>\n",
       "      <td>NaN</td>\n",
       "      <td>NaN</td>\n",
       "      <td>NaN</td>\n",
       "    </tr>\n",
       "    <tr>\n",
       "      <th>mean</th>\n",
       "      <td>NaN</td>\n",
       "      <td>NaN</td>\n",
       "      <td>297.593778</td>\n",
       "      <td>2023-07-05 20:32:10.826433024</td>\n",
       "      <td>NaN</td>\n",
       "      <td>NaN</td>\n",
       "      <td>NaN</td>\n",
       "      <td>NaN</td>\n",
       "      <td>NaN</td>\n",
       "      <td>NaN</td>\n",
       "      <td>44.673965</td>\n",
       "      <td>NaN</td>\n",
       "      <td>119.643312</td>\n",
       "      <td>1.124602</td>\n",
       "      <td>5114.302966</td>\n",
       "      <td>2024-11-04 08:09:22.219745024</td>\n",
       "    </tr>\n",
       "    <tr>\n",
       "      <th>min</th>\n",
       "      <td>NaN</td>\n",
       "      <td>NaN</td>\n",
       "      <td>0.260000</td>\n",
       "      <td>2023-01-02 16:00:06</td>\n",
       "      <td>NaN</td>\n",
       "      <td>NaN</td>\n",
       "      <td>NaN</td>\n",
       "      <td>NaN</td>\n",
       "      <td>NaN</td>\n",
       "      <td>NaN</td>\n",
       "      <td>18.000000</td>\n",
       "      <td>NaN</td>\n",
       "      <td>10.000000</td>\n",
       "      <td>1.000000</td>\n",
       "      <td>101.250000</td>\n",
       "      <td>2024-11-04 08:06:23</td>\n",
       "    </tr>\n",
       "    <tr>\n",
       "      <th>25%</th>\n",
       "      <td>NaN</td>\n",
       "      <td>NaN</td>\n",
       "      <td>81.885000</td>\n",
       "      <td>2023-04-03 16:22:05.750000128</td>\n",
       "      <td>NaN</td>\n",
       "      <td>NaN</td>\n",
       "      <td>NaN</td>\n",
       "      <td>NaN</td>\n",
       "      <td>NaN</td>\n",
       "      <td>NaN</td>\n",
       "      <td>27.000000</td>\n",
       "      <td>NaN</td>\n",
       "      <td>63.000000</td>\n",
       "      <td>1.000000</td>\n",
       "      <td>1504.370000</td>\n",
       "      <td>2024-11-04 08:07:53</td>\n",
       "    </tr>\n",
       "    <tr>\n",
       "      <th>50%</th>\n",
       "      <td>NaN</td>\n",
       "      <td>NaN</td>\n",
       "      <td>211.140000</td>\n",
       "      <td>2023-07-07 17:49:43.500000</td>\n",
       "      <td>NaN</td>\n",
       "      <td>NaN</td>\n",
       "      <td>NaN</td>\n",
       "      <td>NaN</td>\n",
       "      <td>NaN</td>\n",
       "      <td>NaN</td>\n",
       "      <td>45.000000</td>\n",
       "      <td>NaN</td>\n",
       "      <td>112.500000</td>\n",
       "      <td>1.000000</td>\n",
       "      <td>4735.510000</td>\n",
       "      <td>2024-11-04 08:09:22</td>\n",
       "    </tr>\n",
       "    <tr>\n",
       "      <th>75%</th>\n",
       "      <td>NaN</td>\n",
       "      <td>NaN</td>\n",
       "      <td>414.527500</td>\n",
       "      <td>2023-10-06 18:40:53.500000</td>\n",
       "      <td>NaN</td>\n",
       "      <td>NaN</td>\n",
       "      <td>NaN</td>\n",
       "      <td>NaN</td>\n",
       "      <td>NaN</td>\n",
       "      <td>NaN</td>\n",
       "      <td>59.000000</td>\n",
       "      <td>NaN</td>\n",
       "      <td>161.000000</td>\n",
       "      <td>1.000000</td>\n",
       "      <td>7678.820000</td>\n",
       "      <td>2024-11-04 08:10:53.249999872</td>\n",
       "    </tr>\n",
       "    <tr>\n",
       "      <th>max</th>\n",
       "      <td>NaN</td>\n",
       "      <td>NaN</td>\n",
       "      <td>1919.110000</td>\n",
       "      <td>2024-01-01 18:21:50</td>\n",
       "      <td>NaN</td>\n",
       "      <td>NaN</td>\n",
       "      <td>NaN</td>\n",
       "      <td>NaN</td>\n",
       "      <td>NaN</td>\n",
       "      <td>NaN</td>\n",
       "      <td>80.000000</td>\n",
       "      <td>NaN</td>\n",
       "      <td>300.000000</td>\n",
       "      <td>5.000000</td>\n",
       "      <td>14977.990000</td>\n",
       "      <td>2024-11-04 08:12:23</td>\n",
       "    </tr>\n",
       "    <tr>\n",
       "      <th>std</th>\n",
       "      <td>NaN</td>\n",
       "      <td>NaN</td>\n",
       "      <td>291.946243</td>\n",
       "      <td>NaN</td>\n",
       "      <td>NaN</td>\n",
       "      <td>NaN</td>\n",
       "      <td>NaN</td>\n",
       "      <td>NaN</td>\n",
       "      <td>NaN</td>\n",
       "      <td>NaN</td>\n",
       "      <td>17.792198</td>\n",
       "      <td>NaN</td>\n",
       "      <td>69.963757</td>\n",
       "      <td>0.602662</td>\n",
       "      <td>3900.942499</td>\n",
       "      <td>NaN</td>\n",
       "    </tr>\n",
       "  </tbody>\n",
       "</table>\n",
       "</div>"
      ],
      "text/plain": [
       "       TransactionID AccountID  TransactionAmount  \\\n",
       "count           2512      2512        2512.000000   \n",
       "unique          2512       495                NaN   \n",
       "top         TX002496   AC00460                NaN   \n",
       "freq               1        12                NaN   \n",
       "mean             NaN       NaN         297.593778   \n",
       "min              NaN       NaN           0.260000   \n",
       "25%              NaN       NaN          81.885000   \n",
       "50%              NaN       NaN         211.140000   \n",
       "75%              NaN       NaN         414.527500   \n",
       "max              NaN       NaN        1919.110000   \n",
       "std              NaN       NaN         291.946243   \n",
       "\n",
       "                      TransactionDate TransactionType    Location DeviceID  \\\n",
       "count                            2512            2512        2512     2512   \n",
       "unique                            NaN               2          43      681   \n",
       "top                               NaN           Debit  Fort Worth  D000548   \n",
       "freq                              NaN            1944          70        9   \n",
       "mean    2023-07-05 20:32:10.826433024             NaN         NaN      NaN   \n",
       "min               2023-01-02 16:00:06             NaN         NaN      NaN   \n",
       "25%     2023-04-03 16:22:05.750000128             NaN         NaN      NaN   \n",
       "50%        2023-07-07 17:49:43.500000             NaN         NaN      NaN   \n",
       "75%        2023-10-06 18:40:53.500000             NaN         NaN      NaN   \n",
       "max               2024-01-01 18:21:50             NaN         NaN      NaN   \n",
       "std                               NaN             NaN         NaN      NaN   \n",
       "\n",
       "            IP Address MerchantID Channel  CustomerAge CustomerOccupation  \\\n",
       "count             2512       2512    2512  2512.000000               2512   \n",
       "unique             592        100       3          NaN                  4   \n",
       "top     200.136.146.93       M026  Branch          NaN            Student   \n",
       "freq                13         45     868          NaN                657   \n",
       "mean               NaN        NaN     NaN    44.673965                NaN   \n",
       "min                NaN        NaN     NaN    18.000000                NaN   \n",
       "25%                NaN        NaN     NaN    27.000000                NaN   \n",
       "50%                NaN        NaN     NaN    45.000000                NaN   \n",
       "75%                NaN        NaN     NaN    59.000000                NaN   \n",
       "max                NaN        NaN     NaN    80.000000                NaN   \n",
       "std                NaN        NaN     NaN    17.792198                NaN   \n",
       "\n",
       "        TransactionDuration  LoginAttempts  AccountBalance  \\\n",
       "count           2512.000000    2512.000000     2512.000000   \n",
       "unique                  NaN            NaN             NaN   \n",
       "top                     NaN            NaN             NaN   \n",
       "freq                    NaN            NaN             NaN   \n",
       "mean             119.643312       1.124602     5114.302966   \n",
       "min               10.000000       1.000000      101.250000   \n",
       "25%               63.000000       1.000000     1504.370000   \n",
       "50%              112.500000       1.000000     4735.510000   \n",
       "75%              161.000000       1.000000     7678.820000   \n",
       "max              300.000000       5.000000    14977.990000   \n",
       "std               69.963757       0.602662     3900.942499   \n",
       "\n",
       "              PreviousTransactionDate  \n",
       "count                            2512  \n",
       "unique                            NaN  \n",
       "top                               NaN  \n",
       "freq                              NaN  \n",
       "mean    2024-11-04 08:09:22.219745024  \n",
       "min               2024-11-04 08:06:23  \n",
       "25%               2024-11-04 08:07:53  \n",
       "50%               2024-11-04 08:09:22  \n",
       "75%     2024-11-04 08:10:53.249999872  \n",
       "max               2024-11-04 08:12:23  \n",
       "std                               NaN  "
      ]
     },
     "execution_count": 11,
     "metadata": {},
     "output_type": "execute_result"
    }
   ],
   "source": [
    "# describe the data with all columns included\n",
    "df.describe(include='all')"
   ]
  },
  {
   "cell_type": "markdown",
   "id": "975bfb88",
   "metadata": {},
   "source": [
    "---"
   ]
  },
  {
   "cell_type": "markdown",
   "id": "53a02ef5",
   "metadata": {},
   "source": [
    "Having loaded and inspected the dataset, we can now move on to cleaning and preparing the data. This includes handling missing values, standardizing formats, and engineering useful features for analysis."
   ]
  },
  {
   "cell_type": "markdown",
   "id": "a5bb34d0",
   "metadata": {},
   "source": [
    "## Data Cleaning\n",
    "\n",
    "With our initial inspection complete, we now clean the dataset and engineer new features to enhance our analysis.\n",
    "\n",
    "In this section, we:\n",
    "- Standardise and validate fields like `Location` and `IP Address`.\n",
    "- Create new time-based and transaction-based features.\n",
    "- Flag potentially high-value transactions."
   ]
  },
  {
   "cell_type": "markdown",
   "id": "6d0380a7",
   "metadata": {},
   "source": [
    "We begin by inspecting the `Location` column for formatting inconsistencies. Clean and consistent location names are important for grouping and geographic analysis later in the project."
   ]
  },
  {
   "cell_type": "code",
   "execution_count": 12,
   "id": "ee425646",
   "metadata": {},
   "outputs": [
    {
     "data": {
      "text/plain": [
       "array(['San Diego', 'Houston', 'Mesa', 'Raleigh', 'Atlanta',\n",
       "       'Oklahoma City', 'Seattle', 'Indianapolis', 'Detroit', 'Nashville',\n",
       "       'Albuquerque', 'Memphis', 'Louisville', 'Denver', 'Austin',\n",
       "       'Columbus', 'Los Angeles', 'Las Vegas', 'Fort Worth', 'Miami',\n",
       "       'Milwaukee', 'Baltimore', 'New York', 'San Francisco', 'San Jose',\n",
       "       'San Antonio', 'Philadelphia', 'Charlotte', 'Tucson', 'Chicago',\n",
       "       'Sacramento', 'Kansas City', 'Omaha', 'Virginia Beach', 'Dallas',\n",
       "       'Boston', 'Jacksonville', 'Phoenix', 'Washington', 'El Paso',\n",
       "       'Colorado Springs', 'Fresno', 'Portland'], dtype=object)"
      ]
     },
     "execution_count": 12,
     "metadata": {},
     "output_type": "execute_result"
    }
   ],
   "source": [
    "# check location column for formatting issues\n",
    "df['Location'].unique()"
   ]
  },
  {
   "cell_type": "markdown",
   "id": "adab9a2b",
   "metadata": {},
   "source": [
    "All entries in the `Location` column are consistently formatted and do not require any cleaning at this stage."
   ]
  },
  {
   "cell_type": "markdown",
   "id": "585fafd9",
   "metadata": {},
   "source": [
    "Next, we verify whether the `IP Address` values follow the expected IPv4 format (e.g., `192.168.0.1`). This helps identify any malformed or potentially suspicious entries that might suggest spoofing or data issues."
   ]
  },
  {
   "cell_type": "code",
   "execution_count": null,
   "id": "129b5bf9",
   "metadata": {},
   "outputs": [
    {
     "data": {
      "text/plain": [
       "IsValidIP\n",
       "True    2512\n",
       "Name: count, dtype: int64"
      ]
     },
     "execution_count": 13,
     "metadata": {},
     "output_type": "execute_result"
    }
   ],
   "source": [
    "# validate the format of the IP address in the 'IP Address' column\n",
    "# the regex pattern checks for four groups of 1 to 3 digits separated by dots, ensuring that each group is between 0 and 255.\n",
    "df['IsValidIP'] = df['IP Address'].apply(lambda x: bool(re.match(r'^\\d{1,3}(\\.\\d{1,3}){3}$', x)))\n",
    "df['IsValidIP'].value_counts()"
   ]
  },
  {
   "cell_type": "markdown",
   "id": "ff42059d",
   "metadata": {},
   "source": [
    "All entries in the `IP Address` column follow a valid IPv4 format and appear correctly structured."
   ]
  },
  {
   "cell_type": "markdown",
   "id": "43c7e1f0",
   "metadata": {},
   "source": [
    "To explore patterns in transaction behaviour over the day, we extract the hour component from the `TransactionDate`. This will help us analyse usage trends during different parts of the day (e.g., working hours vs. late night). We will also print the unique values of this column for inspection."
   ]
  },
  {
   "cell_type": "code",
   "execution_count": 14,
   "id": "6346c925",
   "metadata": {},
   "outputs": [
    {
     "name": "stdout",
     "output_type": "stream",
     "text": [
      "      TransactionDate  TransactionHour\n",
      "0 2023-04-11 16:29:14               16\n",
      "1 2023-06-27 16:44:19               16\n",
      "2 2023-07-10 18:16:08               18\n",
      "3 2023-05-05 16:32:11               16\n",
      "4 2023-10-16 17:51:24               17\n",
      "Unique values of TransactionHour: [16 18 17]\n"
     ]
    }
   ],
   "source": [
    "# extract the hour from the 'TransactionDate' column and create a new column 'TransactionHour'\n",
    "df['TransactionHour'] = df['TransactionDate'].dt.hour\n",
    "print(df[['TransactionDate', 'TransactionHour']].head())\n",
    "print('Unique values of TransactionHour:', df['TransactionHour'].unique())"
   ]
  },
  {
   "cell_type": "markdown",
   "id": "9b731948",
   "metadata": {},
   "source": [
    "We calculate the number of days between each transaction and the previous one for the same account. This feature helps us analyse transaction frequency and potentially detect abnormal activity patterns."
   ]
  },
  {
   "cell_type": "code",
   "execution_count": 15,
   "id": "2215e4f5",
   "metadata": {},
   "outputs": [
    {
     "data": {
      "text/plain": [
       "count    2512.000000\n",
       "mean      486.857882\n",
       "std       106.378910\n",
       "min       307.000000\n",
       "25%       394.000000\n",
       "50%       485.000000\n",
       "75%       580.000000\n",
       "max       671.000000\n",
       "Name: DaysBetweenTransactions, dtype: float64"
      ]
     },
     "execution_count": 15,
     "metadata": {},
     "output_type": "execute_result"
    }
   ],
   "source": [
    "# calculate days between transaction date and previous transaction date\n",
    "df['DaysBetweenTransactions'] = (df['PreviousTransactionDate'] - df['TransactionDate']).dt.days\n",
    "df['DaysBetweenTransactions'].describe()"
   ]
  },
  {
   "cell_type": "markdown",
   "id": "f7a7cb72",
   "metadata": {},
   "source": [
    "High-value transactions can often be linked to fraudulent activity or exceptional behaviour. Here, we define a high-value transaction as one in the top 10% of all transaction amounts."
   ]
  },
  {
   "cell_type": "code",
   "execution_count": null,
   "id": "76e54170",
   "metadata": {},
   "outputs": [
    {
     "name": "stdout",
     "output_type": "stream",
     "text": [
      "The 90th percentile for TransactionAmount is: 701.3120000000004\n",
      "   TransactionAmount  IsHighValueTransaction\n",
      "0              14.09                   False\n",
      "1             376.24                   False\n",
      "2             126.29                   False\n",
      "3             184.50                   False\n",
      "4              13.45                   False\n"
     ]
    }
   ],
   "source": [
    "# create a new column for high-value transactions\n",
    "# assuming high-value transactions are defined as those in the top 10% of transaction amounts\n",
    "high_value_threshold = df['TransactionAmount'].quantile(0.90)\n",
    "print(f\"The 90th percentile for TransactionAmount is: {high_value_threshold}\")\n",
    "\n",
    "df['IsHighValueTransaction'] = df['TransactionAmount'] > high_value_threshold\n",
    "\n",
    "print(df[['TransactionAmount', 'IsHighValueTransaction']].head())"
   ]
  },
  {
   "cell_type": "markdown",
   "id": "de8959ab",
   "metadata": {},
   "source": [
    "The dataset is now cleaned and enhanced with new features. These new features will allow for deeper behavioural and anomaly analysis in the next sections."
   ]
  },
  {
   "cell_type": "markdown",
   "id": "726a186a",
   "metadata": {},
   "source": [
    "---"
   ]
  },
  {
   "cell_type": "markdown",
   "id": "067e73ba",
   "metadata": {},
   "source": [
    "## Exploratory Data Analysis (EDA)"
   ]
  },
  {
   "cell_type": "markdown",
   "id": "96fbd1d3",
   "metadata": {},
   "source": [
    "#### Overview of Transactions"
   ]
  },
  {
   "cell_type": "code",
   "execution_count": null,
   "id": "e3bf7d0c",
   "metadata": {},
   "outputs": [
    {
     "data": {
      "image/png": "[encoded data removed]",
      "text/plain": [
       "<Figure size 1000x600 with 1 Axes>"
      ]
     },
     "metadata": {},
     "output_type": "display_data"
    }
   ],
   "source": [
    "# transaction amount distribution\n",
    "# histogram of transaction amounts\n",
    "plt.figure(figsize=(10, 6))\n",
    "sns.histplot(df['TransactionAmount'], bins=50, kde=True)\n",
    "plt.title('Distribution of Transaction Amounts')\n",
    "plt.xlabel('Transaction Amount')\n",
    "plt.ylabel('Frequency')\n",
    "plt.grid()\n",
    "plt.show()"
   ]
  },
  {
   "cell_type": "code",
   "execution_count": null,
   "id": "70d3aaed",
   "metadata": {},
   "outputs": [
    {
     "data": {
      "application/vnd.plotly.v1+json": {
       "config": {
        "plotlyServerURL": "https://plot.ly"
       },
       "data": [
        {
         "mode": "lines+markers",
         "name": "Daily Transactions",
         "type": "scatter",
         "x": [
          "2023-01-02",
          "2023-01-03",
          "2023-01-04",
          "2023-01-05",
          "2023-01-06",
          "2023-01-09",
          "2023-01-10",
          "2023-01-11",
          "2023-01-12",
          "2023-01-13",
          "2023-01-16",
          "2023-01-17",
          "2023-01-18",
          "2023-01-19",
          "2023-01-20",
          "2023-01-23",
          "2023-01-24",
          "2023-01-25",
          "2023-01-26",
          "2023-01-27",
          "2023-01-30",
          "2023-01-31",
          "2023-02-01",
          "2023-02-02",
          "2023-02-03",
          "2023-02-06",
          "2023-02-07",
          "2023-02-08",
          "2023-02-09",
          "2023-02-10",
          "2023-02-13",
          "2023-02-14",
          "2023-02-15",
          "2023-02-16",
          "2023-02-17",
          "2023-02-20",
          "2023-02-21",
          "2023-02-22",
          "2023-02-23",
          "2023-02-24",
          "2023-02-27",
          "2023-02-28",
          "2023-03-01",
          "2023-03-02",
          "2023-03-03",
          "2023-03-06",
          "2023-03-07",
          "2023-03-08",
          "2023-03-09",
          "2023-03-10",
          "2023-03-13",
          "2023-03-14",
          "2023-03-15",
          "2023-03-16",
          "2023-03-17",
          "2023-03-20",
          "2023-03-21",
          "2023-03-22",
          "2023-03-23",
          "2023-03-24",
          "2023-03-27",
          "2023-03-28",
          "2023-03-29",
          "2023-03-30",
          "2023-03-31",
          "2023-04-03",
          "2023-04-04",
          "2023-04-05",
          "2023-04-06",
          "2023-04-07",
          "2023-04-10",
          "2023-04-11",
          "2023-04-12",
          "2023-04-13",
          "2023-04-14",
          "2023-04-17",
          "2023-04-18",
          "2023-04-19",
          "2023-04-20",
          "2023-04-21",
          "2023-04-24",
          "2023-04-25",
          "2023-04-26",
          "2023-04-27",
          "2023-04-28",
          "2023-05-01",
          "2023-05-02",
          "2023-05-03",
          "2023-05-04",
          "2023-05-05",
          "2023-05-08",
          "2023-05-09",
          "2023-05-10",
          "2023-05-11",
          "2023-05-12",
          "2023-05-15",
          "2023-05-16",
          "2023-05-17",
          "2023-05-18",
          "2023-05-19",
          "2023-05-22",
          "2023-05-23",
          "2023-05-24",
          "2023-05-25",
          "2023-05-26",
          "2023-05-29",
          "2023-05-30",
          "2023-05-31",
          "2023-06-01",
          "2023-06-02",
          "2023-06-05",
          "2023-06-06",
          "2023-06-07",
          "2023-06-08",
          "2023-06-09",
          "2023-06-12",
          "2023-06-13",
          "2023-06-14",
          "2023-06-15",
          "2023-06-16",
          "2023-06-19",
          "2023-06-20",
          "2023-06-21",
          "2023-06-22",
          "2023-06-23",
          "2023-06-26",
          "2023-06-27",
          "2023-06-28",
          "2023-06-29",
          "2023-06-30",
          "2023-07-03",
          "2023-07-04",
          "2023-07-05",
          "2023-07-06",
          "2023-07-07",
          "2023-07-10",
          "2023-07-11",
          "2023-07-12",
          "2023-07-13",
          "2023-07-14",
          "2023-07-17",
          "2023-07-18",
          "2023-07-19",
          "2023-07-20",
          "2023-07-21",
          "2023-07-24",
          "2023-07-25",
          "2023-07-26",
          "2023-07-27",
          "2023-07-28",
          "2023-07-31",
          "2023-08-01",
          "2023-08-02",
          "2023-08-03",
          "2023-08-04",
          "2023-08-07",
          "2023-08-08",
          "2023-08-09",
          "2023-08-10",
          "2023-08-11",
          "2023-08-14",
          "2023-08-15",
          "2023-08-16",
          "2023-08-17",
          "2023-08-18",
          "2023-08-21",
          "2023-08-22",
          "2023-08-23",
          "2023-08-24",
          "2023-08-25",
          "2023-08-28",
          "2023-08-29",
          "2023-08-30",
          "2023-08-31",
          "2023-09-01",
          "2023-09-04",
          "2023-09-05",
          "2023-09-06",
          "2023-09-07",
          "2023-09-08",
          "2023-09-11",
          "2023-09-12",
          "2023-09-13",
          "2023-09-14",
          "2023-09-15",
          "2023-09-18",
          "2023-09-19",
          "2023-09-20",
          "2023-09-21",
          "2023-09-22",
          "2023-09-25",
          "2023-09-26",
          "2023-09-27",
          "2023-09-28",
          "2023-09-29",
          "2023-10-02",
          "2023-10-03",
          "2023-10-04",
          "2023-10-05",
          "2023-10-06",
          "2023-10-09",
          "2023-10-10",
          "2023-10-11",
          "2023-10-12",
          "2023-10-13",
          "2023-10-16",
          "2023-10-17",
          "2023-10-18",
          "2023-10-19",
          "2023-10-20",
          "2023-10-23",
          "2023-10-24",
          "2023-10-25",
          "2023-10-26",
          "2023-10-27",
          "2023-10-30",
          "2023-10-31",
          "2023-11-01",
          "2023-11-02",
          "2023-11-03",
          "2023-11-06",
          "2023-11-07",
          "2023-11-08",
          "2023-11-09",
          "2023-11-10",
          "2023-11-13",
          "2023-11-14",
          "2023-11-15",
          "2023-11-16",
          "2023-11-17",
          "2023-11-20",
          "2023-11-21",
          "2023-11-22",
          "2023-11-23",
          "2023-11-24",
          "2023-11-27",
          "2023-11-28",
          "2023-11-29",
          "2023-11-30",
          "2023-12-01",
          "2023-12-04",
          "2023-12-05",
          "2023-12-06",
          "2023-12-07",
          "2023-12-08",
          "2023-12-11",
          "2023-12-12",
          "2023-12-13",
          "2023-12-14",
          "2023-12-15",
          "2023-12-18",
          "2023-12-19",
          "2023-12-20",
          "2023-12-21",
          "2023-12-22",
          "2023-12-25",
          "2023-12-26",
          "2023-12-27",
          "2023-12-28",
          "2023-12-29",
          "2024-01-01"
         ],
         "y": {
          "bdata": "EwkECAcXBgYIBBIMBgcFEgcDBAUXBQIGCBoCBwgIGQgHBwsUCQkIChoLCAsJDwUIBAoWBgsEBBAFBgUDFgQGBQgWAwUGBxIFBgUGEQUFCAQQDAMCBhAJAgoKDwYLBAIXBgQGDhsFBwUJDwgGBwUTBgoNChEFCQgJEQYJCQUXCQQHBRAHBQcIFAMIBgUNCQYGBhQKCAgFEwYFCAQZCAUNDRUFBgkCFgUFBwsXCQYGCRQICAgJEAgKBQQXCA0HBhgIBwcGCwgJAwcUBwQMBCIICQoHFQYGBwUTCQcEChIHBAcIEgcIBwcYBwUKCxsICgcKGAcGCQoSBgQHBREHCQYIGgUEBwkN",
          "dtype": "i1"
         }
        },
        {
         "line": {
          "color": "red"
         },
         "mode": "lines",
         "name": "7-Day Moving Average",
         "type": "scatter",
         "x": [
          "2023-01-02",
          "2023-01-03",
          "2023-01-04",
          "2023-01-05",
          "2023-01-06",
          "2023-01-09",
          "2023-01-10",
          "2023-01-11",
          "2023-01-12",
          "2023-01-13",
          "2023-01-16",
          "2023-01-17",
          "2023-01-18",
          "2023-01-19",
          "2023-01-20",
          "2023-01-23",
          "2023-01-24",
          "2023-01-25",
          "2023-01-26",
          "2023-01-27",
          "2023-01-30",
          "2023-01-31",
          "2023-02-01",
          "2023-02-02",
          "2023-02-03",
          "2023-02-06",
          "2023-02-07",
          "2023-02-08",
          "2023-02-09",
          "2023-02-10",
          "2023-02-13",
          "2023-02-14",
          "2023-02-15",
          "2023-02-16",
          "2023-02-17",
          "2023-02-20",
          "2023-02-21",
          "2023-02-22",
          "2023-02-23",
          "2023-02-24",
          "2023-02-27",
          "2023-02-28",
          "2023-03-01",
          "2023-03-02",
          "2023-03-03",
          "2023-03-06",
          "2023-03-07",
          "2023-03-08",
          "2023-03-09",
          "2023-03-10",
          "2023-03-13",
          "2023-03-14",
          "2023-03-15",
          "2023-03-16",
          "2023-03-17",
          "2023-03-20",
          "2023-03-21",
          "2023-03-22",
          "2023-03-23",
          "2023-03-24",
          "2023-03-27",
          "2023-03-28",
          "2023-03-29",
          "2023-03-30",
          "2023-03-31",
          "2023-04-03",
          "2023-04-04",
          "2023-04-05",
          "2023-04-06",
          "2023-04-07",
          "2023-04-10",
          "2023-04-11",
          "2023-04-12",
          "2023-04-13",
          "2023-04-14",
          "2023-04-17",
          "2023-04-18",
          "2023-04-19",
          "2023-04-20",
          "2023-04-21",
          "2023-04-24",
          "2023-04-25",
          "2023-04-26",
          "2023-04-27",
          "2023-04-28",
          "2023-05-01",
          "2023-05-02",
          "2023-05-03",
          "2023-05-04",
          "2023-05-05",
          "2023-05-08",
          "2023-05-09",
          "2023-05-10",
          "2023-05-11",
          "2023-05-12",
          "2023-05-15",
          "2023-05-16",
          "2023-05-17",
          "2023-05-18",
          "2023-05-19",
          "2023-05-22",
          "2023-05-23",
          "2023-05-24",
          "2023-05-25",
          "2023-05-26",
          "2023-05-29",
          "2023-05-30",
          "2023-05-31",
          "2023-06-01",
          "2023-06-02",
          "2023-06-05",
          "2023-06-06",
          "2023-06-07",
          "2023-06-08",
          "2023-06-09",
          "2023-06-12",
          "2023-06-13",
          "2023-06-14",
          "2023-06-15",
          "2023-06-16",
          "2023-06-19",
          "2023-06-20",
          "2023-06-21",
          "2023-06-22",
          "2023-06-23",
          "2023-06-26",
          "2023-06-27",
          "2023-06-28",
          "2023-06-29",
          "2023-06-30",
          "2023-07-03",
          "2023-07-04",
          "2023-07-05",
          "2023-07-06",
          "2023-07-07",
          "2023-07-10",
          "2023-07-11",
          "2023-07-12",
          "2023-07-13",
          "2023-07-14",
          "2023-07-17",
          "2023-07-18",
          "2023-07-19",
          "2023-07-20",
          "2023-07-21",
          "2023-07-24",
          "2023-07-25",
          "2023-07-26",
          "2023-07-27",
          "2023-07-28",
          "2023-07-31",
          "2023-08-01",
          "2023-08-02",
          "2023-08-03",
          "2023-08-04",
          "2023-08-07",
          "2023-08-08",
          "2023-08-09",
          "2023-08-10",
          "2023-08-11",
          "2023-08-14",
          "2023-08-15",
          "2023-08-16",
          "2023-08-17",
          "2023-08-18",
          "2023-08-21",
          "2023-08-22",
          "2023-08-23",
          "2023-08-24",
          "2023-08-25",
          "2023-08-28",
          "2023-08-29",
          "2023-08-30",
          "2023-08-31",
          "2023-09-01",
          "2023-09-04",
          "2023-09-05",
          "2023-09-06",
          "2023-09-07",
          "2023-09-08",
          "2023-09-11",
          "2023-09-12",
          "2023-09-13",
          "2023-09-14",
          "2023-09-15",
          "2023-09-18",
          "2023-09-19",
          "2023-09-20",
          "2023-09-21",
          "2023-09-22",
          "2023-09-25",
          "2023-09-26",
          "2023-09-27",
          "2023-09-28",
          "2023-09-29",
          "2023-10-02",
          "2023-10-03",
          "2023-10-04",
          "2023-10-05",
          "2023-10-06",
          "2023-10-09",
          "2023-10-10",
          "2023-10-11",
          "2023-10-12",
          "2023-10-13",
          "2023-10-16",
          "2023-10-17",
          "2023-10-18",
          "2023-10-19",
          "2023-10-20",
          "2023-10-23",
          "2023-10-24",
          "2023-10-25",
          "2023-10-26",
          "2023-10-27",
          "2023-10-30",
          "2023-10-31",
          "2023-11-01",
          "2023-11-02",
          "2023-11-03",
          "2023-11-06",
          "2023-11-07",
          "2023-11-08",
          "2023-11-09",
          "2023-11-10",
          "2023-11-13",
          "2023-11-14",
          "2023-11-15",
          "2023-11-16",
          "2023-11-17",
          "2023-11-20",
          "2023-11-21",
          "2023-11-22",
          "2023-11-23",
          "2023-11-24",
          "2023-11-27",
          "2023-11-28",
          "2023-11-29",
          "2023-11-30",
          "2023-12-01",
          "2023-12-04",
          "2023-12-05",
          "2023-12-06",
          "2023-12-07",
          "2023-12-08",
          "2023-12-11",
          "2023-12-12",
          "2023-12-13",
          "2023-12-14",
          "2023-12-15",
          "2023-12-18",
          "2023-12-19",
          "2023-12-20",
          "2023-12-21",
          "2023-12-22",
          "2023-12-25",
          "2023-12-26",
          "2023-12-27",
          "2023-12-28",
          "2023-12-29",
          "2024-01-01"
         ],
         "y": {
          "bdata": "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",
          "dtype": "f8"
         }
        }
       ],
       "layout": {
        "legend": {
         "title": {
          "text": "Legend"
         }
        },
        "template": {
         "data": {
          "bar": [
           {
            "error_x": {
             "color": "#2a3f5f"
            },
            "error_y": {
             "color": "#2a3f5f"
            },
            "marker": {
             "line": {
              "color": "white",
              "width": 0.5
             },
             "pattern": {
              "fillmode": "overlay",
              "size": 10,
              "solidity": 0.2
             }
            },
            "type": "bar"
           }
          ],
          "barpolar": [
           {
            "marker": {
             "line": {
              "color": "white",
              "width": 0.5
             },
             "pattern": {
              "fillmode": "overlay",
              "size": 10,
              "solidity": 0.2
             }
            },
            "type": "barpolar"
           }
          ],
          "carpet": [
           {
            "aaxis": {
             "endlinecolor": "#2a3f5f",
             "gridcolor": "#C8D4E3",
             "linecolor": "#C8D4E3",
             "minorgridcolor": "#C8D4E3",
             "startlinecolor": "#2a3f5f"
            },
            "baxis": {
             "endlinecolor": "#2a3f5f",
             "gridcolor": "#C8D4E3",
             "linecolor": "#C8D4E3",
             "minorgridcolor": "#C8D4E3",
             "startlinecolor": "#2a3f5f"
            },
            "type": "carpet"
           }
          ],
          "choropleth": [
           {
            "colorbar": {
             "outlinewidth": 0,
             "ticks": ""
            },
            "type": "choropleth"
           }
          ],
          "contour": [
           {
            "colorbar": {
             "outlinewidth": 0,
             "ticks": ""
            },
            "colorscale": [
             [
              0,
              "#0d0887"
             ],
             [
              0.1111111111111111,
              "#46039f"
             ],
             [
              0.2222222222222222,
              "#7201a8"
             ],
             [
              0.3333333333333333,
              "#9c179e"
             ],
             [
              0.4444444444444444,
              "#bd3786"
             ],
             [
              0.5555555555555556,
              "#d8576b"
             ],
             [
              0.6666666666666666,
              "#ed7953"
             ],
             [
              0.7777777777777778,
              "#fb9f3a"
             ],
             [
              0.8888888888888888,
              "#fdca26"
             ],
             [
              1,
              "#f0f921"
             ]
            ],
            "type": "contour"
           }
          ],
          "contourcarpet": [
           {
            "colorbar": {
             "outlinewidth": 0,
             "ticks": ""
            },
            "type": "contourcarpet"
           }
          ],
          "heatmap": [
           {
            "colorbar": {
             "outlinewidth": 0,
             "ticks": ""
            },
            "colorscale": [
             [
              0,
              "#0d0887"
             ],
             [
              0.1111111111111111,
              "#46039f"
             ],
             [
              0.2222222222222222,
              "#7201a8"
             ],
             [
              0.3333333333333333,
              "#9c179e"
             ],
             [
              0.4444444444444444,
              "#bd3786"
             ],
             [
              0.5555555555555556,
              "#d8576b"
             ],
             [
              0.6666666666666666,
              "#ed7953"
             ],
             [
              0.7777777777777778,
              "#fb9f3a"
             ],
             [
              0.8888888888888888,
              "#fdca26"
             ],
             [
              1,
              "#f0f921"
             ]
            ],
            "type": "heatmap"
           }
          ],
          "histogram": [
           {
            "marker": {
             "pattern": {
              "fillmode": "overlay",
              "size": 10,
              "solidity": 0.2
             }
            },
            "type": "histogram"
           }
          ],
          "histogram2d": [
           {
            "colorbar": {
             "outlinewidth": 0,
             "ticks": ""
            },
            "colorscale": [
             [
              0,
              "#0d0887"
             ],
             [
              0.1111111111111111,
              "#46039f"
             ],
             [
              0.2222222222222222,
              "#7201a8"
             ],
             [
              0.3333333333333333,
              "#9c179e"
             ],
             [
              0.4444444444444444,
              "#bd3786"
             ],
             [
              0.5555555555555556,
              "#d8576b"
             ],
             [
              0.6666666666666666,
              "#ed7953"
             ],
             [
              0.7777777777777778,
              "#fb9f3a"
             ],
             [
              0.8888888888888888,
              "#fdca26"
             ],
             [
              1,
              "#f0f921"
             ]
            ],
            "type": "histogram2d"
           }
          ],
          "histogram2dcontour": [
           {
            "colorbar": {
             "outlinewidth": 0,
             "ticks": ""
            },
            "colorscale": [
             [
              0,
              "#0d0887"
             ],
             [
              0.1111111111111111,
              "#46039f"
             ],
             [
              0.2222222222222222,
              "#7201a8"
             ],
             [
              0.3333333333333333,
              "#9c179e"
             ],
             [
              0.4444444444444444,
              "#bd3786"
             ],
             [
              0.5555555555555556,
              "#d8576b"
             ],
             [
              0.6666666666666666,
              "#ed7953"
             ],
             [
              0.7777777777777778,
              "#fb9f3a"
             ],
             [
              0.8888888888888888,
              "#fdca26"
             ],
             [
              1,
              "#f0f921"
             ]
            ],
            "type": "histogram2dcontour"
           }
          ],
          "mesh3d": [
           {
            "colorbar": {
             "outlinewidth": 0,
             "ticks": ""
            },
            "type": "mesh3d"
           }
          ],
          "parcoords": [
           {
            "line": {
             "colorbar": {
              "outlinewidth": 0,
              "ticks": ""
             }
            },
            "type": "parcoords"
           }
          ],
          "pie": [
           {
            "automargin": true,
            "type": "pie"
           }
          ],
          "scatter": [
           {
            "fillpattern": {
             "fillmode": "overlay",
             "size": 10,
             "solidity": 0.2
            },
            "type": "scatter"
           }
          ],
          "scatter3d": [
           {
            "line": {
             "colorbar": {
              "outlinewidth": 0,
              "ticks": ""
             }
            },
            "marker": {
             "colorbar": {
              "outlinewidth": 0,
              "ticks": ""
             }
            },
            "type": "scatter3d"
           }
          ],
          "scattercarpet": [
           {
            "marker": {
             "colorbar": {
              "outlinewidth": 0,
              "ticks": ""
             }
            },
            "type": "scattercarpet"
           }
          ],
          "scattergeo": [
           {
            "marker": {
             "colorbar": {
              "outlinewidth": 0,
              "ticks": ""
             }
            },
            "type": "scattergeo"
           }
          ],
          "scattergl": [
           {
            "marker": {
             "colorbar": {
              "outlinewidth": 0,
              "ticks": ""
             }
            },
            "type": "scattergl"
           }
          ],
          "scattermap": [
           {
            "marker": {
             "colorbar": {
              "outlinewidth": 0,
              "ticks": ""
             }
            },
            "type": "scattermap"
           }
          ],
          "scattermapbox": [
           {
            "marker": {
             "colorbar": {
              "outlinewidth": 0,
              "ticks": ""
             }
            },
            "type": "scattermapbox"
           }
          ],
          "scatterpolar": [
           {
            "marker": {
             "colorbar": {
              "outlinewidth": 0,
              "ticks": ""
             }
            },
            "type": "scatterpolar"
           }
          ],
          "scatterpolargl": [
           {
            "marker": {
             "colorbar": {
              "outlinewidth": 0,
              "ticks": ""
             }
            },
            "type": "scatterpolargl"
           }
          ],
          "scatterternary": [
           {
            "marker": {
             "colorbar": {
              "outlinewidth": 0,
              "ticks": ""
             }
            },
            "type": "scatterternary"
           }
          ],
          "surface": [
           {
            "colorbar": {
             "outlinewidth": 0,
             "ticks": ""
            },
            "colorscale": [
             [
              0,
              "#0d0887"
             ],
             [
              0.1111111111111111,
              "#46039f"
             ],
             [
              0.2222222222222222,
              "#7201a8"
             ],
             [
              0.3333333333333333,
              "#9c179e"
             ],
             [
              0.4444444444444444,
              "#bd3786"
             ],
             [
              0.5555555555555556,
              "#d8576b"
             ],
             [
              0.6666666666666666,
              "#ed7953"
             ],
             [
              0.7777777777777778,
              "#fb9f3a"
             ],
             [
              0.8888888888888888,
              "#fdca26"
             ],
             [
              1,
              "#f0f921"
             ]
            ],
            "type": "surface"
           }
          ],
          "table": [
           {
            "cells": {
             "fill": {
              "color": "#EBF0F8"
             },
             "line": {
              "color": "white"
             }
            },
            "header": {
             "fill": {
              "color": "#C8D4E3"
             },
             "line": {
              "color": "white"
             }
            },
            "type": "table"
           }
          ]
         },
         "layout": {
          "annotationdefaults": {
           "arrowcolor": "#2a3f5f",
           "arrowhead": 0,
           "arrowwidth": 1
          },
          "autotypenumbers": "strict",
          "coloraxis": {
           "colorbar": {
            "outlinewidth": 0,
            "ticks": ""
           }
          },
          "colorscale": {
           "diverging": [
            [
             0,
             "#8e0152"
            ],
            [
             0.1,
             "#c51b7d"
            ],
            [
             0.2,
             "#de77ae"
            ],
            [
             0.3,
             "#f1b6da"
            ],
            [
             0.4,
             "#fde0ef"
            ],
            [
             0.5,
             "#f7f7f7"
            ],
            [
             0.6,
             "#e6f5d0"
            ],
            [
             0.7,
             "#b8e186"
            ],
            [
             0.8,
             "#7fbc41"
            ],
            [
             0.9,
             "#4d9221"
            ],
            [
             1,
             "#276419"
            ]
           ],
           "sequential": [
            [
             0,
             "#0d0887"
            ],
            [
             0.1111111111111111,
             "#46039f"
            ],
            [
             0.2222222222222222,
             "#7201a8"
            ],
            [
             0.3333333333333333,
             "#9c179e"
            ],
            [
             0.4444444444444444,
             "#bd3786"
            ],
            [
             0.5555555555555556,
             "#d8576b"
            ],
            [
             0.6666666666666666,
             "#ed7953"
            ],
            [
             0.7777777777777778,
             "#fb9f3a"
            ],
            [
             0.8888888888888888,
             "#fdca26"
            ],
            [
             1,
             "#f0f921"
            ]
           ],
           "sequentialminus": [
            [
             0,
             "#0d0887"
            ],
            [
             0.1111111111111111,
             "#46039f"
            ],
            [
             0.2222222222222222,
             "#7201a8"
            ],
            [
             0.3333333333333333,
             "#9c179e"
            ],
            [
             0.4444444444444444,
             "#bd3786"
            ],
            [
             0.5555555555555556,
             "#d8576b"
            ],
            [
             0.6666666666666666,
             "#ed7953"
            ],
            [
             0.7777777777777778,
             "#fb9f3a"
            ],
            [
             0.8888888888888888,
             "#fdca26"
            ],
            [
             1,
             "#f0f921"
            ]
           ]
          },
          "colorway": [
           "#636efa",
           "#EF553B",
           "#00cc96",
           "#ab63fa",
           "#FFA15A",
           "#19d3f3",
           "#FF6692",
           "#B6E880",
           "#FF97FF",
           "#FECB52"
          ],
          "font": {
           "color": "#2a3f5f"
          },
          "geo": {
           "bgcolor": "white",
           "lakecolor": "white",
           "landcolor": "white",
           "showlakes": true,
           "showland": true,
           "subunitcolor": "#C8D4E3"
          },
          "hoverlabel": {
           "align": "left"
          },
          "hovermode": "closest",
          "mapbox": {
           "style": "light"
          },
          "paper_bgcolor": "white",
          "plot_bgcolor": "white",
          "polar": {
           "angularaxis": {
            "gridcolor": "#EBF0F8",
            "linecolor": "#EBF0F8",
            "ticks": ""
           },
           "bgcolor": "white",
           "radialaxis": {
            "gridcolor": "#EBF0F8",
            "linecolor": "#EBF0F8",
            "ticks": ""
           }
          },
          "scene": {
           "xaxis": {
            "backgroundcolor": "white",
            "gridcolor": "#DFE8F3",
            "gridwidth": 2,
            "linecolor": "#EBF0F8",
            "showbackground": true,
            "ticks": "",
            "zerolinecolor": "#EBF0F8"
           },
           "yaxis": {
            "backgroundcolor": "white",
            "gridcolor": "#DFE8F3",
            "gridwidth": 2,
            "linecolor": "#EBF0F8",
            "showbackground": true,
            "ticks": "",
            "zerolinecolor": "#EBF0F8"
           },
           "zaxis": {
            "backgroundcolor": "white",
            "gridcolor": "#DFE8F3",
            "gridwidth": 2,
            "linecolor": "#EBF0F8",
            "showbackground": true,
            "ticks": "",
            "zerolinecolor": "#EBF0F8"
           }
          },
          "shapedefaults": {
           "line": {
            "color": "#2a3f5f"
           }
          },
          "ternary": {
           "aaxis": {
            "gridcolor": "#DFE8F3",
            "linecolor": "#A2B1C6",
            "ticks": ""
           },
           "baxis": {
            "gridcolor": "#DFE8F3",
            "linecolor": "#A2B1C6",
            "ticks": ""
           },
           "bgcolor": "white",
           "caxis": {
            "gridcolor": "#DFE8F3",
            "linecolor": "#A2B1C6",
            "ticks": ""
           }
          },
          "title": {
           "x": 0.05
          },
          "xaxis": {
           "automargin": true,
           "gridcolor": "#EBF0F8",
           "linecolor": "#EBF0F8",
           "ticks": "",
           "title": {
            "standoff": 15
           },
           "zerolinecolor": "#EBF0F8",
           "zerolinewidth": 2
          },
          "yaxis": {
           "automargin": true,
           "gridcolor": "#EBF0F8",
           "linecolor": "#EBF0F8",
           "ticks": "",
           "title": {
            "standoff": 15
           },
           "zerolinecolor": "#EBF0F8",
           "zerolinewidth": 2
          }
         }
        },
        "title": {
         "text": "Daily Transaction Volume with 7-Day Moving Average"
        },
        "xaxis": {
         "title": {
          "text": "Date"
         }
        },
        "yaxis": {
         "title": {
          "text": "Number of Transactions"
         }
        }
       }
      }
     },
     "metadata": {},
     "output_type": "display_data"
    }
   ],
   "source": [
    "# daily transaction volume over time\n",
    "# with a 7-day moving average\n",
    "daily_transactions = df.groupby(df['TransactionDate'].dt.date).size()\n",
    "daily_transactions_ma = daily_transactions.rolling(window=7).mean()\n",
    "\n",
    "fig = go.Figure()\n",
    "\n",
    "fig.add_trace(\n",
    "    go.Scatter(\n",
    "        x=daily_transactions.index,\n",
    "        y=daily_transactions.values,\n",
    "        mode='lines+markers',\n",
    "        name='Daily Transactions'\n",
    "    )\n",
    ")\n",
    "\n",
    "fig.add_trace(\n",
    "    go.Scatter(\n",
    "        x=daily_transactions_ma.index,\n",
    "        y=daily_transactions_ma.values,\n",
    "        mode='lines',\n",
    "        name='7-Day Moving Average',\n",
    "        line=dict(color='red')\n",
    "    )\n",
    ")\n",
    "\n",
    "fig.update_layout(\n",
    "    title='Daily Transaction Volume with 7-Day Moving Average',\n",
    "    xaxis_title='Date',\n",
    "    yaxis_title='Number of Transactions',\n",
    "    legend_title='Legend',\n",
    "    template='plotly_white'\n",
    ")\n",
    "\n",
    "fig.show()"
   ]
  },
  {
   "cell_type": "code",
   "execution_count": 22,
   "id": "a73acd18",
   "metadata": {},
   "outputs": [
    {
     "data": {
      "application/vnd.plotly.v1+json": {
       "config": {
        "plotlyServerURL": "https://plot.ly"
       },
       "data": [
        {
         "line": {
          "dash": "solid"
         },
         "marker": {
          "symbol": "circle"
         },
         "mode": "lines+markers",
         "name": "Weekly Average Transaction Amount",
         "type": "scatter",
         "x": [
          "2023-01-02T00:00:00.000000000",
          "2023-01-09T00:00:00.000000000",
          "2023-01-16T00:00:00.000000000",
          "2023-01-23T00:00:00.000000000",
          "2023-01-30T00:00:00.000000000",
          "2023-02-06T00:00:00.000000000",
          "2023-02-13T00:00:00.000000000",
          "2023-02-20T00:00:00.000000000",
          "2023-02-27T00:00:00.000000000",
          "2023-03-06T00:00:00.000000000",
          "2023-03-13T00:00:00.000000000",
          "2023-03-20T00:00:00.000000000",
          "2023-03-27T00:00:00.000000000",
          "2023-04-03T00:00:00.000000000",
          "2023-04-10T00:00:00.000000000",
          "2023-04-17T00:00:00.000000000",
          "2023-04-24T00:00:00.000000000",
          "2023-05-01T00:00:00.000000000",
          "2023-05-08T00:00:00.000000000",
          "2023-05-15T00:00:00.000000000",
          "2023-05-22T00:00:00.000000000",
          "2023-05-29T00:00:00.000000000",
          "2023-06-05T00:00:00.000000000",
          "2023-06-12T00:00:00.000000000",
          "2023-06-19T00:00:00.000000000",
          "2023-06-26T00:00:00.000000000",
          "2023-07-03T00:00:00.000000000",
          "2023-07-10T00:00:00.000000000",
          "2023-07-17T00:00:00.000000000",
          "2023-07-24T00:00:00.000000000",
          "2023-07-31T00:00:00.000000000",
          "2023-08-07T00:00:00.000000000",
          "2023-08-14T00:00:00.000000000",
          "2023-08-21T00:00:00.000000000",
          "2023-08-28T00:00:00.000000000",
          "2023-09-04T00:00:00.000000000",
          "2023-09-11T00:00:00.000000000",
          "2023-09-18T00:00:00.000000000",
          "2023-09-25T00:00:00.000000000",
          "2023-10-02T00:00:00.000000000",
          "2023-10-09T00:00:00.000000000",
          "2023-10-16T00:00:00.000000000",
          "2023-10-23T00:00:00.000000000",
          "2023-10-30T00:00:00.000000000",
          "2023-11-06T00:00:00.000000000",
          "2023-11-13T00:00:00.000000000",
          "2023-11-20T00:00:00.000000000",
          "2023-11-27T00:00:00.000000000",
          "2023-12-04T00:00:00.000000000",
          "2023-12-11T00:00:00.000000000",
          "2023-12-18T00:00:00.000000000",
          "2023-12-25T00:00:00.000000000",
          "2024-01-01T00:00:00.000000000"
         ],
         "y": {
          "bdata": "Hzd1CrB4c0A2X22GAbNxQKcNdNqAQnRAkyfllJ4bdkBPCfKUIPNvQBVIe67hpGxAnbcY0nmbbEBFfyerZeBxQOsMXqMrv3VAs9Ck5gNOeECIyRXE5FpwQFcC6HWHn3RAwOvkqj0VbkDD9ShcjzpvQHsUrkfhemtAQJK9csWIckDnQeuA27xvQOWVMAf5k3NA+z23xKljcUCpCcZb2adrQOKLXEWdLnVAvgXpW5CacECMpHbwe4lwQHsUrkehinBAsxKq/jxrdUDJL5b8YjBzQFCQ1pmeAnNAMr1sZfDBdUC4HoXrUZVyQJKRkZGRQXFAlcF/Yo5KckDD9Shcr7Z0QNI/PPHJqGtAQ89m1eeEdUDbCSHJC+t1QNOYLeTPdHdAp7b7pZ22dEC+/haAR+5xQF/ohV7oNXhAnE1QsVXPdUCErvlqMyx1QKjaDUF0lW1Aad23+J+1b0BQgMr/eM1xQEKDITQYunNALxgX2oH8cEAAcVtTMPtyQHg6eaeTaXFAif5OVss7dEBDi2zne9t2QP9elEElO3dAN54Ea9FHbkC80Au90NtjQA==",
          "dtype": "f8"
         }
        }
       ],
       "layout": {
        "legend": {
         "title": {
          "text": "Legend"
         }
        },
        "template": {
         "data": {
          "bar": [
           {
            "error_x": {
             "color": "#2a3f5f"
            },
            "error_y": {
             "color": "#2a3f5f"
            },
            "marker": {
             "line": {
              "color": "white",
              "width": 0.5
             },
             "pattern": {
              "fillmode": "overlay",
              "size": 10,
              "solidity": 0.2
             }
            },
            "type": "bar"
           }
          ],
          "barpolar": [
           {
            "marker": {
             "line": {
              "color": "white",
              "width": 0.5
             },
             "pattern": {
              "fillmode": "overlay",
              "size": 10,
              "solidity": 0.2
             }
            },
            "type": "barpolar"
           }
          ],
          "carpet": [
           {
            "aaxis": {
             "endlinecolor": "#2a3f5f",
             "gridcolor": "#C8D4E3",
             "linecolor": "#C8D4E3",
             "minorgridcolor": "#C8D4E3",
             "startlinecolor": "#2a3f5f"
            },
            "baxis": {
             "endlinecolor": "#2a3f5f",
             "gridcolor": "#C8D4E3",
             "linecolor": "#C8D4E3",
             "minorgridcolor": "#C8D4E3",
             "startlinecolor": "#2a3f5f"
            },
            "type": "carpet"
           }
          ],
          "choropleth": [
           {
            "colorbar": {
             "outlinewidth": 0,
             "ticks": ""
            },
            "type": "choropleth"
           }
          ],
          "contour": [
           {
            "colorbar": {
             "outlinewidth": 0,
             "ticks": ""
            },
            "colorscale": [
             [
              0,
              "#0d0887"
             ],
             [
              0.1111111111111111,
              "#46039f"
             ],
             [
              0.2222222222222222,
              "#7201a8"
             ],
             [
              0.3333333333333333,
              "#9c179e"
             ],
             [
              0.4444444444444444,
              "#bd3786"
             ],
             [
              0.5555555555555556,
              "#d8576b"
             ],
             [
              0.6666666666666666,
              "#ed7953"
             ],
             [
              0.7777777777777778,
              "#fb9f3a"
             ],
             [
              0.8888888888888888,
              "#fdca26"
             ],
             [
              1,
              "#f0f921"
             ]
            ],
            "type": "contour"
           }
          ],
          "contourcarpet": [
           {
            "colorbar": {
             "outlinewidth": 0,
             "ticks": ""
            },
            "type": "contourcarpet"
           }
          ],
          "heatmap": [
           {
            "colorbar": {
             "outlinewidth": 0,
             "ticks": ""
            },
            "colorscale": [
             [
              0,
              "#0d0887"
             ],
             [
              0.1111111111111111,
              "#46039f"
             ],
             [
              0.2222222222222222,
              "#7201a8"
             ],
             [
              0.3333333333333333,
              "#9c179e"
             ],
             [
              0.4444444444444444,
              "#bd3786"
             ],
             [
              0.5555555555555556,
              "#d8576b"
             ],
             [
              0.6666666666666666,
              "#ed7953"
             ],
             [
              0.7777777777777778,
              "#fb9f3a"
             ],
             [
              0.8888888888888888,
              "#fdca26"
             ],
             [
              1,
              "#f0f921"
             ]
            ],
            "type": "heatmap"
           }
          ],
          "histogram": [
           {
            "marker": {
             "pattern": {
              "fillmode": "overlay",
              "size": 10,
              "solidity": 0.2
             }
            },
            "type": "histogram"
           }
          ],
          "histogram2d": [
           {
            "colorbar": {
             "outlinewidth": 0,
             "ticks": ""
            },
            "colorscale": [
             [
              0,
              "#0d0887"
             ],
             [
              0.1111111111111111,
              "#46039f"
             ],
             [
              0.2222222222222222,
              "#7201a8"
             ],
             [
              0.3333333333333333,
              "#9c179e"
             ],
             [
              0.4444444444444444,
              "#bd3786"
             ],
             [
              0.5555555555555556,
              "#d8576b"
             ],
             [
              0.6666666666666666,
              "#ed7953"
             ],
             [
              0.7777777777777778,
              "#fb9f3a"
             ],
             [
              0.8888888888888888,
              "#fdca26"
             ],
             [
              1,
              "#f0f921"
             ]
            ],
            "type": "histogram2d"
           }
          ],
          "histogram2dcontour": [
           {
            "colorbar": {
             "outlinewidth": 0,
             "ticks": ""
            },
            "colorscale": [
             [
              0,
              "#0d0887"
             ],
             [
              0.1111111111111111,
              "#46039f"
             ],
             [
              0.2222222222222222,
              "#7201a8"
             ],
             [
              0.3333333333333333,
              "#9c179e"
             ],
             [
              0.4444444444444444,
              "#bd3786"
             ],
             [
              0.5555555555555556,
              "#d8576b"
             ],
             [
              0.6666666666666666,
              "#ed7953"
             ],
             [
              0.7777777777777778,
              "#fb9f3a"
             ],
             [
              0.8888888888888888,
              "#fdca26"
             ],
             [
              1,
              "#f0f921"
             ]
            ],
            "type": "histogram2dcontour"
           }
          ],
          "mesh3d": [
           {
            "colorbar": {
             "outlinewidth": 0,
             "ticks": ""
            },
            "type": "mesh3d"
           }
          ],
          "parcoords": [
           {
            "line": {
             "colorbar": {
              "outlinewidth": 0,
              "ticks": ""
             }
            },
            "type": "parcoords"
           }
          ],
          "pie": [
           {
            "automargin": true,
            "type": "pie"
           }
          ],
          "scatter": [
           {
            "fillpattern": {
             "fillmode": "overlay",
             "size": 10,
             "solidity": 0.2
            },
            "type": "scatter"
           }
          ],
          "scatter3d": [
           {
            "line": {
             "colorbar": {
              "outlinewidth": 0,
              "ticks": ""
             }
            },
            "marker": {
             "colorbar": {
              "outlinewidth": 0,
              "ticks": ""
             }
            },
            "type": "scatter3d"
           }
          ],
          "scattercarpet": [
           {
            "marker": {
             "colorbar": {
              "outlinewidth": 0,
              "ticks": ""
             }
            },
            "type": "scattercarpet"
           }
          ],
          "scattergeo": [
           {
            "marker": {
             "colorbar": {
              "outlinewidth": 0,
              "ticks": ""
             }
            },
            "type": "scattergeo"
           }
          ],
          "scattergl": [
           {
            "marker": {
             "colorbar": {
              "outlinewidth": 0,
              "ticks": ""
             }
            },
            "type": "scattergl"
           }
          ],
          "scattermap": [
           {
            "marker": {
             "colorbar": {
              "outlinewidth": 0,
              "ticks": ""
             }
            },
            "type": "scattermap"
           }
          ],
          "scattermapbox": [
           {
            "marker": {
             "colorbar": {
              "outlinewidth": 0,
              "ticks": ""
             }
            },
            "type": "scattermapbox"
           }
          ],
          "scatterpolar": [
           {
            "marker": {
             "colorbar": {
              "outlinewidth": 0,
              "ticks": ""
             }
            },
            "type": "scatterpolar"
           }
          ],
          "scatterpolargl": [
           {
            "marker": {
             "colorbar": {
              "outlinewidth": 0,
              "ticks": ""
             }
            },
            "type": "scatterpolargl"
           }
          ],
          "scatterternary": [
           {
            "marker": {
             "colorbar": {
              "outlinewidth": 0,
              "ticks": ""
             }
            },
            "type": "scatterternary"
           }
          ],
          "surface": [
           {
            "colorbar": {
             "outlinewidth": 0,
             "ticks": ""
            },
            "colorscale": [
             [
              0,
              "#0d0887"
             ],
             [
              0.1111111111111111,
              "#46039f"
             ],
             [
              0.2222222222222222,
              "#7201a8"
             ],
             [
              0.3333333333333333,
              "#9c179e"
             ],
             [
              0.4444444444444444,
              "#bd3786"
             ],
             [
              0.5555555555555556,
              "#d8576b"
             ],
             [
              0.6666666666666666,
              "#ed7953"
             ],
             [
              0.7777777777777778,
              "#fb9f3a"
             ],
             [
              0.8888888888888888,
              "#fdca26"
             ],
             [
              1,
              "#f0f921"
             ]
            ],
            "type": "surface"
           }
          ],
          "table": [
           {
            "cells": {
             "fill": {
              "color": "#EBF0F8"
             },
             "line": {
              "color": "white"
             }
            },
            "header": {
             "fill": {
              "color": "#C8D4E3"
             },
             "line": {
              "color": "white"
             }
            },
            "type": "table"
           }
          ]
         },
         "layout": {
          "annotationdefaults": {
           "arrowcolor": "#2a3f5f",
           "arrowhead": 0,
           "arrowwidth": 1
          },
          "autotypenumbers": "strict",
          "coloraxis": {
           "colorbar": {
            "outlinewidth": 0,
            "ticks": ""
           }
          },
          "colorscale": {
           "diverging": [
            [
             0,
             "#8e0152"
            ],
            [
             0.1,
             "#c51b7d"
            ],
            [
             0.2,
             "#de77ae"
            ],
            [
             0.3,
             "#f1b6da"
            ],
            [
             0.4,
             "#fde0ef"
            ],
            [
             0.5,
             "#f7f7f7"
            ],
            [
             0.6,
             "#e6f5d0"
            ],
            [
             0.7,
             "#b8e186"
            ],
            [
             0.8,
             "#7fbc41"
            ],
            [
             0.9,
             "#4d9221"
            ],
            [
             1,
             "#276419"
            ]
           ],
           "sequential": [
            [
             0,
             "#0d0887"
            ],
            [
             0.1111111111111111,
             "#46039f"
            ],
            [
             0.2222222222222222,
             "#7201a8"
            ],
            [
             0.3333333333333333,
             "#9c179e"
            ],
            [
             0.4444444444444444,
             "#bd3786"
            ],
            [
             0.5555555555555556,
             "#d8576b"
            ],
            [
             0.6666666666666666,
             "#ed7953"
            ],
            [
             0.7777777777777778,
             "#fb9f3a"
            ],
            [
             0.8888888888888888,
             "#fdca26"
            ],
            [
             1,
             "#f0f921"
            ]
           ],
           "sequentialminus": [
            [
             0,
             "#0d0887"
            ],
            [
             0.1111111111111111,
             "#46039f"
            ],
            [
             0.2222222222222222,
             "#7201a8"
            ],
            [
             0.3333333333333333,
             "#9c179e"
            ],
            [
             0.4444444444444444,
             "#bd3786"
            ],
            [
             0.5555555555555556,
             "#d8576b"
            ],
            [
             0.6666666666666666,
             "#ed7953"
            ],
            [
             0.7777777777777778,
             "#fb9f3a"
            ],
            [
             0.8888888888888888,
             "#fdca26"
            ],
            [
             1,
             "#f0f921"
            ]
           ]
          },
          "colorway": [
           "#636efa",
           "#EF553B",
           "#00cc96",
           "#ab63fa",
           "#FFA15A",
           "#19d3f3",
           "#FF6692",
           "#B6E880",
           "#FF97FF",
           "#FECB52"
          ],
          "font": {
           "color": "#2a3f5f"
          },
          "geo": {
           "bgcolor": "white",
           "lakecolor": "white",
           "landcolor": "white",
           "showlakes": true,
           "showland": true,
           "subunitcolor": "#C8D4E3"
          },
          "hoverlabel": {
           "align": "left"
          },
          "hovermode": "closest",
          "mapbox": {
           "style": "light"
          },
          "paper_bgcolor": "white",
          "plot_bgcolor": "white",
          "polar": {
           "angularaxis": {
            "gridcolor": "#EBF0F8",
            "linecolor": "#EBF0F8",
            "ticks": ""
           },
           "bgcolor": "white",
           "radialaxis": {
            "gridcolor": "#EBF0F8",
            "linecolor": "#EBF0F8",
            "ticks": ""
           }
          },
          "scene": {
           "xaxis": {
            "backgroundcolor": "white",
            "gridcolor": "#DFE8F3",
            "gridwidth": 2,
            "linecolor": "#EBF0F8",
            "showbackground": true,
            "ticks": "",
            "zerolinecolor": "#EBF0F8"
           },
           "yaxis": {
            "backgroundcolor": "white",
            "gridcolor": "#DFE8F3",
            "gridwidth": 2,
            "linecolor": "#EBF0F8",
            "showbackground": true,
            "ticks": "",
            "zerolinecolor": "#EBF0F8"
           },
           "zaxis": {
            "backgroundcolor": "white",
            "gridcolor": "#DFE8F3",
            "gridwidth": 2,
            "linecolor": "#EBF0F8",
            "showbackground": true,
            "ticks": "",
            "zerolinecolor": "#EBF0F8"
           }
          },
          "shapedefaults": {
           "line": {
            "color": "#2a3f5f"
           }
          },
          "ternary": {
           "aaxis": {
            "gridcolor": "#DFE8F3",
            "linecolor": "#A2B1C6",
            "ticks": ""
           },
           "baxis": {
            "gridcolor": "#DFE8F3",
            "linecolor": "#A2B1C6",
            "ticks": ""
           },
           "bgcolor": "white",
           "caxis": {
            "gridcolor": "#DFE8F3",
            "linecolor": "#A2B1C6",
            "ticks": ""
           }
          },
          "title": {
           "x": 0.05
          },
          "xaxis": {
           "automargin": true,
           "gridcolor": "#EBF0F8",
           "linecolor": "#EBF0F8",
           "ticks": "",
           "title": {
            "standoff": 15
           },
           "zerolinecolor": "#EBF0F8",
           "zerolinewidth": 2
          },
          "yaxis": {
           "automargin": true,
           "gridcolor": "#EBF0F8",
           "linecolor": "#EBF0F8",
           "ticks": "",
           "title": {
            "standoff": 15
           },
           "zerolinecolor": "#EBF0F8",
           "zerolinewidth": 2
          }
         }
        },
        "title": {
         "text": "Weekly Average Transaction Amount"
        },
        "xaxis": {
         "showgrid": true,
         "title": {
          "text": "Week"
         }
        },
        "yaxis": {
         "showgrid": true,
         "title": {
          "text": "Average Transaction Amount"
         }
        }
       }
      }
     },
     "metadata": {},
     "output_type": "display_data"
    }
   ],
   "source": [
    "# average transaction amount over time (aggregated weekly)\n",
    "df['TransactionWeek'] = df['TransactionDate'].dt.to_period('W').apply(lambda r: r.start_time)\n",
    "\n",
    "weekly_avg_transaction_amount = df.groupby('TransactionWeek')['TransactionAmount'].mean()\n",
    "\n",
    "fig = go.Figure()\n",
    "\n",
    "fig.add_trace(\n",
    "    go.Scatter(\n",
    "        x=weekly_avg_transaction_amount.index,\n",
    "        y=weekly_avg_transaction_amount.values,\n",
    "        mode='lines+markers',\n",
    "        name='Weekly Average Transaction Amount',\n",
    "        marker=dict(symbol='circle'),\n",
    "        line=dict(dash='solid')\n",
    "    )\n",
    ")\n",
    "\n",
    "fig.update_layout(\n",
    "    title='Weekly Average Transaction Amount',\n",
    "    xaxis_title='Week',\n",
    "    yaxis_title='Average Transaction Amount',\n",
    "    legend_title='Legend',\n",
    "    template='plotly_white',\n",
    "    xaxis=dict(showgrid=True),  \n",
    "    yaxis=dict(showgrid=True)\n",
    ")\n",
    "\n",
    "fig.show()"
   ]
  },
  {
   "cell_type": "code",
   "execution_count": 24,
   "id": "d9b5fafa",
   "metadata": {},
   "outputs": [
    {
     "data": {
      "image/png": "[encoded data removed]",
      "text/plain": [
       "<Figure size 800x600 with 1 Axes>"
      ]
     },
     "metadata": {},
     "output_type": "display_data"
    }
   ],
   "source": [
    "# credit vs. debit volume\n",
    "# bar chart\n",
    "plt.figure(figsize=(8, 6))\n",
    "sns.countplot(data=df, x='TransactionType', order=df['TransactionType'].value_counts().index)\n",
    "plt.title('Transaction Type Count')\n",
    "plt.xlabel('Transaction Type')\n",
    "plt.ylabel('Count')\n",
    "plt.show()"
   ]
  },
  {
   "cell_type": "markdown",
   "id": "cb518a95",
   "metadata": {},
   "source": [
    " Temporal Patterns"
   ]
  },
  {
   "cell_type": "code",
   "execution_count": 31,
   "id": "480163f0",
   "metadata": {},
   "outputs": [
    {
     "name": "stdout",
     "output_type": "stream",
     "text": [
      "      TransactionDate TransactionDayOfWeek\n",
      "0 2023-04-11 16:29:14              Tuesday\n",
      "1 2023-06-27 16:44:19              Tuesday\n",
      "2 2023-07-10 18:16:08               Monday\n",
      "3 2023-05-05 16:32:11               Friday\n",
      "4 2023-10-16 17:51:24               Monday\n"
     ]
    },
    {
     "data": {
      "image/png": "[encoded data removed]",
      "text/plain": [
       "<Figure size 1000x600 with 1 Axes>"
      ]
     },
     "metadata": {},
     "output_type": "display_data"
    }
   ],
   "source": [
    "# add a column for day of the week\n",
    "df['TransactionDayOfWeek'] = df['TransactionDate'].dt.day_name()\n",
    "print(df[['TransactionDate', 'TransactionDayOfWeek']].head())\n",
    "\n",
    "# plot transaction volume by day of the week\n",
    "plt.figure(figsize=(10, 6))\n",
    "sns.countplot(data=df, x='TransactionDayOfWeek', order=['Monday', 'Tuesday', 'Wednesday', 'Thursday', 'Friday', 'Saturday', 'Sunday'])\n",
    "plt.title('Transaction Volume by Day of the Week')\n",
    "plt.xlabel('Day of the Week')\n",
    "plt.ylabel('Number of Transactions')\n",
    "plt.show()"
   ]
  },
  {
   "cell_type": "code",
   "execution_count": 23,
   "id": "bde805e7",
   "metadata": {},
   "outputs": [
    {
     "data": {
      "image/png": "[encoded data removed]",
      "text/plain": [
       "<Figure size 1200x600 with 1 Axes>"
      ]
     },
     "metadata": {},
     "output_type": "display_data"
    }
   ],
   "source": [
    "# transactions by hour of the day\n",
    "plt.figure(figsize=(12, 6))\n",
    "sns.countplot(data=df, x='TransactionHour')\n",
    "plt.title('Transaction Volume by Hour of the Day')\n",
    "plt.xlabel('Hour of the Day')\n",
    "plt.ylabel('Number of Transactions')\n",
    "plt.show()"
   ]
  },
  {
   "cell_type": "code",
   "execution_count": 20,
   "id": "5bee1756",
   "metadata": {},
   "outputs": [
    {
     "data": {
      "application/vnd.plotly.v1+json": {
       "config": {
        "plotlyServerURL": "https://plot.ly"
       },
       "data": [
        {
         "marker": {
          "symbol": "circle"
         },
         "mode": "lines+markers",
         "name": "Monday Transactions",
         "type": "scatter",
         "x": [
          "2023-01-02",
          "2023-01-09",
          "2023-01-16",
          "2023-01-23",
          "2023-01-30",
          "2023-02-06",
          "2023-02-13",
          "2023-02-20",
          "2023-02-27",
          "2023-03-06",
          "2023-03-13",
          "2023-03-20",
          "2023-03-27",
          "2023-04-03",
          "2023-04-10",
          "2023-04-17",
          "2023-04-24",
          "2023-05-01",
          "2023-05-08",
          "2023-05-15",
          "2023-05-22",
          "2023-05-29",
          "2023-06-05",
          "2023-06-12",
          "2023-06-19",
          "2023-06-26",
          "2023-07-03",
          "2023-07-10",
          "2023-07-17",
          "2023-07-24",
          "2023-07-31",
          "2023-08-07",
          "2023-08-14",
          "2023-08-21",
          "2023-08-28",
          "2023-09-04",
          "2023-09-11",
          "2023-09-18",
          "2023-09-25",
          "2023-10-02",
          "2023-10-09",
          "2023-10-16",
          "2023-10-23",
          "2023-10-30",
          "2023-11-06",
          "2023-11-13",
          "2023-11-20",
          "2023-11-27",
          "2023-12-04",
          "2023-12-11",
          "2023-12-18",
          "2023-12-25",
          "2024-01-01"
         ],
         "y": {
          "bdata": "ExcSEhcaGRQaDxYQFhYSERAQDxcbDxMRERcQFA0UExkVFhcUEBcYCxQiFRMSEhgbGBIRGg0=",
          "dtype": "i1"
         }
        }
       ],
       "layout": {
        "legend": {
         "title": {
          "text": "Legend"
         }
        },
        "template": {
         "data": {
          "bar": [
           {
            "error_x": {
             "color": "#2a3f5f"
            },
            "error_y": {
             "color": "#2a3f5f"
            },
            "marker": {
             "line": {
              "color": "white",
              "width": 0.5
             },
             "pattern": {
              "fillmode": "overlay",
              "size": 10,
              "solidity": 0.2
             }
            },
            "type": "bar"
           }
          ],
          "barpolar": [
           {
            "marker": {
             "line": {
              "color": "white",
              "width": 0.5
             },
             "pattern": {
              "fillmode": "overlay",
              "size": 10,
              "solidity": 0.2
             }
            },
            "type": "barpolar"
           }
          ],
          "carpet": [
           {
            "aaxis": {
             "endlinecolor": "#2a3f5f",
             "gridcolor": "#C8D4E3",
             "linecolor": "#C8D4E3",
             "minorgridcolor": "#C8D4E3",
             "startlinecolor": "#2a3f5f"
            },
            "baxis": {
             "endlinecolor": "#2a3f5f",
             "gridcolor": "#C8D4E3",
             "linecolor": "#C8D4E3",
             "minorgridcolor": "#C8D4E3",
             "startlinecolor": "#2a3f5f"
            },
            "type": "carpet"
           }
          ],
          "choropleth": [
           {
            "colorbar": {
             "outlinewidth": 0,
             "ticks": ""
            },
            "type": "choropleth"
           }
          ],
          "contour": [
           {
            "colorbar": {
             "outlinewidth": 0,
             "ticks": ""
            },
            "colorscale": [
             [
              0,
              "#0d0887"
             ],
             [
              0.1111111111111111,
              "#46039f"
             ],
             [
              0.2222222222222222,
              "#7201a8"
             ],
             [
              0.3333333333333333,
              "#9c179e"
             ],
             [
              0.4444444444444444,
              "#bd3786"
             ],
             [
              0.5555555555555556,
              "#d8576b"
             ],
             [
              0.6666666666666666,
              "#ed7953"
             ],
             [
              0.7777777777777778,
              "#fb9f3a"
             ],
             [
              0.8888888888888888,
              "#fdca26"
             ],
             [
              1,
              "#f0f921"
             ]
            ],
            "type": "contour"
           }
          ],
          "contourcarpet": [
           {
            "colorbar": {
             "outlinewidth": 0,
             "ticks": ""
            },
            "type": "contourcarpet"
           }
          ],
          "heatmap": [
           {
            "colorbar": {
             "outlinewidth": 0,
             "ticks": ""
            },
            "colorscale": [
             [
              0,
              "#0d0887"
             ],
             [
              0.1111111111111111,
              "#46039f"
             ],
             [
              0.2222222222222222,
              "#7201a8"
             ],
             [
              0.3333333333333333,
              "#9c179e"
             ],
             [
              0.4444444444444444,
              "#bd3786"
             ],
             [
              0.5555555555555556,
              "#d8576b"
             ],
             [
              0.6666666666666666,
              "#ed7953"
             ],
             [
              0.7777777777777778,
              "#fb9f3a"
             ],
             [
              0.8888888888888888,
              "#fdca26"
             ],
             [
              1,
              "#f0f921"
             ]
            ],
            "type": "heatmap"
           }
          ],
          "histogram": [
           {
            "marker": {
             "pattern": {
              "fillmode": "overlay",
              "size": 10,
              "solidity": 0.2
             }
            },
            "type": "histogram"
           }
          ],
          "histogram2d": [
           {
            "colorbar": {
             "outlinewidth": 0,
             "ticks": ""
            },
            "colorscale": [
             [
              0,
              "#0d0887"
             ],
             [
              0.1111111111111111,
              "#46039f"
             ],
             [
              0.2222222222222222,
              "#7201a8"
             ],
             [
              0.3333333333333333,
              "#9c179e"
             ],
             [
              0.4444444444444444,
              "#bd3786"
             ],
             [
              0.5555555555555556,
              "#d8576b"
             ],
             [
              0.6666666666666666,
              "#ed7953"
             ],
             [
              0.7777777777777778,
              "#fb9f3a"
             ],
             [
              0.8888888888888888,
              "#fdca26"
             ],
             [
              1,
              "#f0f921"
             ]
            ],
            "type": "histogram2d"
           }
          ],
          "histogram2dcontour": [
           {
            "colorbar": {
             "outlinewidth": 0,
             "ticks": ""
            },
            "colorscale": [
             [
              0,
              "#0d0887"
             ],
             [
              0.1111111111111111,
              "#46039f"
             ],
             [
              0.2222222222222222,
              "#7201a8"
             ],
             [
              0.3333333333333333,
              "#9c179e"
             ],
             [
              0.4444444444444444,
              "#bd3786"
             ],
             [
              0.5555555555555556,
              "#d8576b"
             ],
             [
              0.6666666666666666,
              "#ed7953"
             ],
             [
              0.7777777777777778,
              "#fb9f3a"
             ],
             [
              0.8888888888888888,
              "#fdca26"
             ],
             [
              1,
              "#f0f921"
             ]
            ],
            "type": "histogram2dcontour"
           }
          ],
          "mesh3d": [
           {
            "colorbar": {
             "outlinewidth": 0,
             "ticks": ""
            },
            "type": "mesh3d"
           }
          ],
          "parcoords": [
           {
            "line": {
             "colorbar": {
              "outlinewidth": 0,
              "ticks": ""
             }
            },
            "type": "parcoords"
           }
          ],
          "pie": [
           {
            "automargin": true,
            "type": "pie"
           }
          ],
          "scatter": [
           {
            "fillpattern": {
             "fillmode": "overlay",
             "size": 10,
             "solidity": 0.2
            },
            "type": "scatter"
           }
          ],
          "scatter3d": [
           {
            "line": {
             "colorbar": {
              "outlinewidth": 0,
              "ticks": ""
             }
            },
            "marker": {
             "colorbar": {
              "outlinewidth": 0,
              "ticks": ""
             }
            },
            "type": "scatter3d"
           }
          ],
          "scattercarpet": [
           {
            "marker": {
             "colorbar": {
              "outlinewidth": 0,
              "ticks": ""
             }
            },
            "type": "scattercarpet"
           }
          ],
          "scattergeo": [
           {
            "marker": {
             "colorbar": {
              "outlinewidth": 0,
              "ticks": ""
             }
            },
            "type": "scattergeo"
           }
          ],
          "scattergl": [
           {
            "marker": {
             "colorbar": {
              "outlinewidth": 0,
              "ticks": ""
             }
            },
            "type": "scattergl"
           }
          ],
          "scattermap": [
           {
            "marker": {
             "colorbar": {
              "outlinewidth": 0,
              "ticks": ""
             }
            },
            "type": "scattermap"
           }
          ],
          "scattermapbox": [
           {
            "marker": {
             "colorbar": {
              "outlinewidth": 0,
              "ticks": ""
             }
            },
            "type": "scattermapbox"
           }
          ],
          "scatterpolar": [
           {
            "marker": {
             "colorbar": {
              "outlinewidth": 0,
              "ticks": ""
             }
            },
            "type": "scatterpolar"
           }
          ],
          "scatterpolargl": [
           {
            "marker": {
             "colorbar": {
              "outlinewidth": 0,
              "ticks": ""
             }
            },
            "type": "scatterpolargl"
           }
          ],
          "scatterternary": [
           {
            "marker": {
             "colorbar": {
              "outlinewidth": 0,
              "ticks": ""
             }
            },
            "type": "scatterternary"
           }
          ],
          "surface": [
           {
            "colorbar": {
             "outlinewidth": 0,
             "ticks": ""
            },
            "colorscale": [
             [
              0,
              "#0d0887"
             ],
             [
              0.1111111111111111,
              "#46039f"
             ],
             [
              0.2222222222222222,
              "#7201a8"
             ],
             [
              0.3333333333333333,
              "#9c179e"
             ],
             [
              0.4444444444444444,
              "#bd3786"
             ],
             [
              0.5555555555555556,
              "#d8576b"
             ],
             [
              0.6666666666666666,
              "#ed7953"
             ],
             [
              0.7777777777777778,
              "#fb9f3a"
             ],
             [
              0.8888888888888888,
              "#fdca26"
             ],
             [
              1,
              "#f0f921"
             ]
            ],
            "type": "surface"
           }
          ],
          "table": [
           {
            "cells": {
             "fill": {
              "color": "#EBF0F8"
             },
             "line": {
              "color": "white"
             }
            },
            "header": {
             "fill": {
              "color": "#C8D4E3"
             },
             "line": {
              "color": "white"
             }
            },
            "type": "table"
           }
          ]
         },
         "layout": {
          "annotationdefaults": {
           "arrowcolor": "#2a3f5f",
           "arrowhead": 0,
           "arrowwidth": 1
          },
          "autotypenumbers": "strict",
          "coloraxis": {
           "colorbar": {
            "outlinewidth": 0,
            "ticks": ""
           }
          },
          "colorscale": {
           "diverging": [
            [
             0,
             "#8e0152"
            ],
            [
             0.1,
             "#c51b7d"
            ],
            [
             0.2,
             "#de77ae"
            ],
            [
             0.3,
             "#f1b6da"
            ],
            [
             0.4,
             "#fde0ef"
            ],
            [
             0.5,
             "#f7f7f7"
            ],
            [
             0.6,
             "#e6f5d0"
            ],
            [
             0.7,
             "#b8e186"
            ],
            [
             0.8,
             "#7fbc41"
            ],
            [
             0.9,
             "#4d9221"
            ],
            [
             1,
             "#276419"
            ]
           ],
           "sequential": [
            [
             0,
             "#0d0887"
            ],
            [
             0.1111111111111111,
             "#46039f"
            ],
            [
             0.2222222222222222,
             "#7201a8"
            ],
            [
             0.3333333333333333,
             "#9c179e"
            ],
            [
             0.4444444444444444,
             "#bd3786"
            ],
            [
             0.5555555555555556,
             "#d8576b"
            ],
            [
             0.6666666666666666,
             "#ed7953"
            ],
            [
             0.7777777777777778,
             "#fb9f3a"
            ],
            [
             0.8888888888888888,
             "#fdca26"
            ],
            [
             1,
             "#f0f921"
            ]
           ],
           "sequentialminus": [
            [
             0,
             "#0d0887"
            ],
            [
             0.1111111111111111,
             "#46039f"
            ],
            [
             0.2222222222222222,
             "#7201a8"
            ],
            [
             0.3333333333333333,
             "#9c179e"
            ],
            [
             0.4444444444444444,
             "#bd3786"
            ],
            [
             0.5555555555555556,
             "#d8576b"
            ],
            [
             0.6666666666666666,
             "#ed7953"
            ],
            [
             0.7777777777777778,
             "#fb9f3a"
            ],
            [
             0.8888888888888888,
             "#fdca26"
            ],
            [
             1,
             "#f0f921"
            ]
           ]
          },
          "colorway": [
           "#636efa",
           "#EF553B",
           "#00cc96",
           "#ab63fa",
           "#FFA15A",
           "#19d3f3",
           "#FF6692",
           "#B6E880",
           "#FF97FF",
           "#FECB52"
          ],
          "font": {
           "color": "#2a3f5f"
          },
          "geo": {
           "bgcolor": "white",
           "lakecolor": "white",
           "landcolor": "white",
           "showlakes": true,
           "showland": true,
           "subunitcolor": "#C8D4E3"
          },
          "hoverlabel": {
           "align": "left"
          },
          "hovermode": "closest",
          "mapbox": {
           "style": "light"
          },
          "paper_bgcolor": "white",
          "plot_bgcolor": "white",
          "polar": {
           "angularaxis": {
            "gridcolor": "#EBF0F8",
            "linecolor": "#EBF0F8",
            "ticks": ""
           },
           "bgcolor": "white",
           "radialaxis": {
            "gridcolor": "#EBF0F8",
            "linecolor": "#EBF0F8",
            "ticks": ""
           }
          },
          "scene": {
           "xaxis": {
            "backgroundcolor": "white",
            "gridcolor": "#DFE8F3",
            "gridwidth": 2,
            "linecolor": "#EBF0F8",
            "showbackground": true,
            "ticks": "",
            "zerolinecolor": "#EBF0F8"
           },
           "yaxis": {
            "backgroundcolor": "white",
            "gridcolor": "#DFE8F3",
            "gridwidth": 2,
            "linecolor": "#EBF0F8",
            "showbackground": true,
            "ticks": "",
            "zerolinecolor": "#EBF0F8"
           },
           "zaxis": {
            "backgroundcolor": "white",
            "gridcolor": "#DFE8F3",
            "gridwidth": 2,
            "linecolor": "#EBF0F8",
            "showbackground": true,
            "ticks": "",
            "zerolinecolor": "#EBF0F8"
           }
          },
          "shapedefaults": {
           "line": {
            "color": "#2a3f5f"
           }
          },
          "ternary": {
           "aaxis": {
            "gridcolor": "#DFE8F3",
            "linecolor": "#A2B1C6",
            "ticks": ""
           },
           "baxis": {
            "gridcolor": "#DFE8F3",
            "linecolor": "#A2B1C6",
            "ticks": ""
           },
           "bgcolor": "white",
           "caxis": {
            "gridcolor": "#DFE8F3",
            "linecolor": "#A2B1C6",
            "ticks": ""
           }
          },
          "title": {
           "x": 0.05
          },
          "xaxis": {
           "automargin": true,
           "gridcolor": "#EBF0F8",
           "linecolor": "#EBF0F8",
           "ticks": "",
           "title": {
            "standoff": 15
           },
           "zerolinecolor": "#EBF0F8",
           "zerolinewidth": 2
          },
          "yaxis": {
           "automargin": true,
           "gridcolor": "#EBF0F8",
           "linecolor": "#EBF0F8",
           "ticks": "",
           "title": {
            "standoff": 15
           },
           "zerolinecolor": "#EBF0F8",
           "zerolinewidth": 2
          }
         }
        },
        "title": {
         "text": "Transaction Volume on Mondays"
        },
        "xaxis": {
         "title": {
          "text": "Date"
         }
        },
        "yaxis": {
         "title": {
          "text": "Number of Transactions"
         }
        }
       }
      }
     },
     "metadata": {},
     "output_type": "display_data"
    }
   ],
   "source": [
    "# line chart of count of transactions when TransactionDayOfWeek is Monday\n",
    "monday_transactions = df[df['TransactionDayOfWeek'] == 'Monday'].groupby(df['TransactionDate'].dt.date).size()\n",
    "\n",
    "fig = go.Figure()\n",
    "\n",
    "fig.add_trace(\n",
    "    go.Scatter(\n",
    "        x=monday_transactions.index,\n",
    "        y=monday_transactions.values,\n",
    "        mode='lines+markers',\n",
    "        name='Monday Transactions',\n",
    "        marker=dict(symbol='circle')\n",
    "    )\n",
    ")\n",
    "\n",
    "fig.update_layout(\n",
    "    title='Transaction Volume on Mondays',\n",
    "    xaxis_title='Date',\n",
    "    yaxis_title='Number of Transactions',\n",
    "    legend_title='Legend',\n",
    "    template='plotly_white'\n",
    ")\n",
    "\n",
    "fig.show()"
   ]
  },
  {
   "cell_type": "code",
   "execution_count": 21,
   "id": "4f95daf2",
   "metadata": {},
   "outputs": [
    {
     "data": {
      "application/vnd.plotly.v1+json": {
       "config": {
        "plotlyServerURL": "https://plot.ly"
       },
       "data": [
        {
         "marker": {
          "symbol": "circle"
         },
         "mode": "lines+markers",
         "name": "Non-Weekend Transactions",
         "type": "scatter",
         "x": [
          "2023-01-03",
          "2023-01-04",
          "2023-01-05",
          "2023-01-06",
          "2023-01-10",
          "2023-01-11",
          "2023-01-12",
          "2023-01-13",
          "2023-01-17",
          "2023-01-18",
          "2023-01-19",
          "2023-01-20",
          "2023-01-24",
          "2023-01-25",
          "2023-01-26",
          "2023-01-27",
          "2023-01-31",
          "2023-02-01",
          "2023-02-02",
          "2023-02-03",
          "2023-02-07",
          "2023-02-08",
          "2023-02-09",
          "2023-02-10",
          "2023-02-14",
          "2023-02-15",
          "2023-02-16",
          "2023-02-17",
          "2023-02-21",
          "2023-02-22",
          "2023-02-23",
          "2023-02-24",
          "2023-02-28",
          "2023-03-01",
          "2023-03-02",
          "2023-03-03",
          "2023-03-07",
          "2023-03-08",
          "2023-03-09",
          "2023-03-10",
          "2023-03-14",
          "2023-03-15",
          "2023-03-16",
          "2023-03-17",
          "2023-03-21",
          "2023-03-22",
          "2023-03-23",
          "2023-03-24",
          "2023-03-28",
          "2023-03-29",
          "2023-03-30",
          "2023-03-31",
          "2023-04-04",
          "2023-04-05",
          "2023-04-06",
          "2023-04-07",
          "2023-04-11",
          "2023-04-12",
          "2023-04-13",
          "2023-04-14",
          "2023-04-18",
          "2023-04-19",
          "2023-04-20",
          "2023-04-21",
          "2023-04-25",
          "2023-04-26",
          "2023-04-27",
          "2023-04-28",
          "2023-05-02",
          "2023-05-03",
          "2023-05-04",
          "2023-05-05",
          "2023-05-09",
          "2023-05-10",
          "2023-05-11",
          "2023-05-12",
          "2023-05-16",
          "2023-05-17",
          "2023-05-18",
          "2023-05-19",
          "2023-05-23",
          "2023-05-24",
          "2023-05-25",
          "2023-05-26",
          "2023-05-30",
          "2023-05-31",
          "2023-06-01",
          "2023-06-02",
          "2023-06-06",
          "2023-06-07",
          "2023-06-08",
          "2023-06-09",
          "2023-06-13",
          "2023-06-14",
          "2023-06-15",
          "2023-06-16",
          "2023-06-20",
          "2023-06-21",
          "2023-06-22",
          "2023-06-23",
          "2023-06-27",
          "2023-06-28",
          "2023-06-29",
          "2023-06-30",
          "2023-07-04",
          "2023-07-05",
          "2023-07-06",
          "2023-07-07",
          "2023-07-11",
          "2023-07-12",
          "2023-07-13",
          "2023-07-14",
          "2023-07-18",
          "2023-07-19",
          "2023-07-20",
          "2023-07-21",
          "2023-07-25",
          "2023-07-26",
          "2023-07-27",
          "2023-07-28",
          "2023-08-01",
          "2023-08-02",
          "2023-08-03",
          "2023-08-04",
          "2023-08-08",
          "2023-08-09",
          "2023-08-10",
          "2023-08-11",
          "2023-08-15",
          "2023-08-16",
          "2023-08-17",
          "2023-08-18",
          "2023-08-22",
          "2023-08-23",
          "2023-08-24",
          "2023-08-25",
          "2023-08-29",
          "2023-08-30",
          "2023-08-31",
          "2023-09-01",
          "2023-09-05",
          "2023-09-06",
          "2023-09-07",
          "2023-09-08",
          "2023-09-12",
          "2023-09-13",
          "2023-09-14",
          "2023-09-15",
          "2023-09-19",
          "2023-09-20",
          "2023-09-21",
          "2023-09-22",
          "2023-09-26",
          "2023-09-27",
          "2023-09-28",
          "2023-09-29",
          "2023-10-03",
          "2023-10-04",
          "2023-10-05",
          "2023-10-06",
          "2023-10-10",
          "2023-10-11",
          "2023-10-12",
          "2023-10-13",
          "2023-10-17",
          "2023-10-18",
          "2023-10-19",
          "2023-10-20",
          "2023-10-24",
          "2023-10-25",
          "2023-10-26",
          "2023-10-27",
          "2023-10-31",
          "2023-11-01",
          "2023-11-02",
          "2023-11-03",
          "2023-11-07",
          "2023-11-08",
          "2023-11-09",
          "2023-11-10",
          "2023-11-14",
          "2023-11-15",
          "2023-11-16",
          "2023-11-17",
          "2023-11-21",
          "2023-11-22",
          "2023-11-23",
          "2023-11-24",
          "2023-11-28",
          "2023-11-29",
          "2023-11-30",
          "2023-12-01",
          "2023-12-05",
          "2023-12-06",
          "2023-12-07",
          "2023-12-08",
          "2023-12-12",
          "2023-12-13",
          "2023-12-14",
          "2023-12-15",
          "2023-12-19",
          "2023-12-20",
          "2023-12-21",
          "2023-12-22",
          "2023-12-26",
          "2023-12-27",
          "2023-12-28",
          "2023-12-29"
         ],
         "y": {
          "bdata": "CQQIBwYGCAQMBgcFBwMEBQUCBggCBwgICAcHCwkJCAoLCAsJBQgECgYLBAQFBgUDBAYFCAMFBgcFBgUGBQUIBAwDAgYJAgoKBgsEAgYEBg4FBwUJCAYHBQYKDQoFCQgJBgkJBQkEBwUHBQcIAwgGBQkGBgYKCAgFBgUIBAgFDQ0FBgkCBQUHCwkGBgkICAgJCAoFBAgNBwYIBwcGCAkDBwcEDAQICQoHBgYHBQkHBAoHBAcIBwgHBwcFCgsICgcKBwYJCgYEBwUHCQYIBQQHCQ==",
          "dtype": "i1"
         }
        }
       ],
       "layout": {
        "legend": {
         "title": {
          "text": "Legend"
         }
        },
        "template": {
         "data": {
          "bar": [
           {
            "error_x": {
             "color": "#2a3f5f"
            },
            "error_y": {
             "color": "#2a3f5f"
            },
            "marker": {
             "line": {
              "color": "white",
              "width": 0.5
             },
             "pattern": {
              "fillmode": "overlay",
              "size": 10,
              "solidity": 0.2
             }
            },
            "type": "bar"
           }
          ],
          "barpolar": [
           {
            "marker": {
             "line": {
              "color": "white",
              "width": 0.5
             },
             "pattern": {
              "fillmode": "overlay",
              "size": 10,
              "solidity": 0.2
             }
            },
            "type": "barpolar"
           }
          ],
          "carpet": [
           {
            "aaxis": {
             "endlinecolor": "#2a3f5f",
             "gridcolor": "#C8D4E3",
             "linecolor": "#C8D4E3",
             "minorgridcolor": "#C8D4E3",
             "startlinecolor": "#2a3f5f"
            },
            "baxis": {
             "endlinecolor": "#2a3f5f",
             "gridcolor": "#C8D4E3",
             "linecolor": "#C8D4E3",
             "minorgridcolor": "#C8D4E3",
             "startlinecolor": "#2a3f5f"
            },
            "type": "carpet"
           }
          ],
          "choropleth": [
           {
            "colorbar": {
             "outlinewidth": 0,
             "ticks": ""
            },
            "type": "choropleth"
           }
          ],
          "contour": [
           {
            "colorbar": {
             "outlinewidth": 0,
             "ticks": ""
            },
            "colorscale": [
             [
              0,
              "#0d0887"
             ],
             [
              0.1111111111111111,
              "#46039f"
             ],
             [
              0.2222222222222222,
              "#7201a8"
             ],
             [
              0.3333333333333333,
              "#9c179e"
             ],
             [
              0.4444444444444444,
              "#bd3786"
             ],
             [
              0.5555555555555556,
              "#d8576b"
             ],
             [
              0.6666666666666666,
              "#ed7953"
             ],
             [
              0.7777777777777778,
              "#fb9f3a"
             ],
             [
              0.8888888888888888,
              "#fdca26"
             ],
             [
              1,
              "#f0f921"
             ]
            ],
            "type": "contour"
           }
          ],
          "contourcarpet": [
           {
            "colorbar": {
             "outlinewidth": 0,
             "ticks": ""
            },
            "type": "contourcarpet"
           }
          ],
          "heatmap": [
           {
            "colorbar": {
             "outlinewidth": 0,
             "ticks": ""
            },
            "colorscale": [
             [
              0,
              "#0d0887"
             ],
             [
              0.1111111111111111,
              "#46039f"
             ],
             [
              0.2222222222222222,
              "#7201a8"
             ],
             [
              0.3333333333333333,
              "#9c179e"
             ],
             [
              0.4444444444444444,
              "#bd3786"
             ],
             [
              0.5555555555555556,
              "#d8576b"
             ],
             [
              0.6666666666666666,
              "#ed7953"
             ],
             [
              0.7777777777777778,
              "#fb9f3a"
             ],
             [
              0.8888888888888888,
              "#fdca26"
             ],
             [
              1,
              "#f0f921"
             ]
            ],
            "type": "heatmap"
           }
          ],
          "histogram": [
           {
            "marker": {
             "pattern": {
              "fillmode": "overlay",
              "size": 10,
              "solidity": 0.2
             }
            },
            "type": "histogram"
           }
          ],
          "histogram2d": [
           {
            "colorbar": {
             "outlinewidth": 0,
             "ticks": ""
            },
            "colorscale": [
             [
              0,
              "#0d0887"
             ],
             [
              0.1111111111111111,
              "#46039f"
             ],
             [
              0.2222222222222222,
              "#7201a8"
             ],
             [
              0.3333333333333333,
              "#9c179e"
             ],
             [
              0.4444444444444444,
              "#bd3786"
             ],
             [
              0.5555555555555556,
              "#d8576b"
             ],
             [
              0.6666666666666666,
              "#ed7953"
             ],
             [
              0.7777777777777778,
              "#fb9f3a"
             ],
             [
              0.8888888888888888,
              "#fdca26"
             ],
             [
              1,
              "#f0f921"
             ]
            ],
            "type": "histogram2d"
           }
          ],
          "histogram2dcontour": [
           {
            "colorbar": {
             "outlinewidth": 0,
             "ticks": ""
            },
            "colorscale": [
             [
              0,
              "#0d0887"
             ],
             [
              0.1111111111111111,
              "#46039f"
             ],
             [
              0.2222222222222222,
              "#7201a8"
             ],
             [
              0.3333333333333333,
              "#9c179e"
             ],
             [
              0.4444444444444444,
              "#bd3786"
             ],
             [
              0.5555555555555556,
              "#d8576b"
             ],
             [
              0.6666666666666666,
              "#ed7953"
             ],
             [
              0.7777777777777778,
              "#fb9f3a"
             ],
             [
              0.8888888888888888,
              "#fdca26"
             ],
             [
              1,
              "#f0f921"
             ]
            ],
            "type": "histogram2dcontour"
           }
          ],
          "mesh3d": [
           {
            "colorbar": {
             "outlinewidth": 0,
             "ticks": ""
            },
            "type": "mesh3d"
           }
          ],
          "parcoords": [
           {
            "line": {
             "colorbar": {
              "outlinewidth": 0,
              "ticks": ""
             }
            },
            "type": "parcoords"
           }
          ],
          "pie": [
           {
            "automargin": true,
            "type": "pie"
           }
          ],
          "scatter": [
           {
            "fillpattern": {
             "fillmode": "overlay",
             "size": 10,
             "solidity": 0.2
            },
            "type": "scatter"
           }
          ],
          "scatter3d": [
           {
            "line": {
             "colorbar": {
              "outlinewidth": 0,
              "ticks": ""
             }
            },
            "marker": {
             "colorbar": {
              "outlinewidth": 0,
              "ticks": ""
             }
            },
            "type": "scatter3d"
           }
          ],
          "scattercarpet": [
           {
            "marker": {
             "colorbar": {
              "outlinewidth": 0,
              "ticks": ""
             }
            },
            "type": "scattercarpet"
           }
          ],
          "scattergeo": [
           {
            "marker": {
             "colorbar": {
              "outlinewidth": 0,
              "ticks": ""
             }
            },
            "type": "scattergeo"
           }
          ],
          "scattergl": [
           {
            "marker": {
             "colorbar": {
              "outlinewidth": 0,
              "ticks": ""
             }
            },
            "type": "scattergl"
           }
          ],
          "scattermap": [
           {
            "marker": {
             "colorbar": {
              "outlinewidth": 0,
              "ticks": ""
             }
            },
            "type": "scattermap"
           }
          ],
          "scattermapbox": [
           {
            "marker": {
             "colorbar": {
              "outlinewidth": 0,
              "ticks": ""
             }
            },
            "type": "scattermapbox"
           }
          ],
          "scatterpolar": [
           {
            "marker": {
             "colorbar": {
              "outlinewidth": 0,
              "ticks": ""
             }
            },
            "type": "scatterpolar"
           }
          ],
          "scatterpolargl": [
           {
            "marker": {
             "colorbar": {
              "outlinewidth": 0,
              "ticks": ""
             }
            },
            "type": "scatterpolargl"
           }
          ],
          "scatterternary": [
           {
            "marker": {
             "colorbar": {
              "outlinewidth": 0,
              "ticks": ""
             }
            },
            "type": "scatterternary"
           }
          ],
          "surface": [
           {
            "colorbar": {
             "outlinewidth": 0,
             "ticks": ""
            },
            "colorscale": [
             [
              0,
              "#0d0887"
             ],
             [
              0.1111111111111111,
              "#46039f"
             ],
             [
              0.2222222222222222,
              "#7201a8"
             ],
             [
              0.3333333333333333,
              "#9c179e"
             ],
             [
              0.4444444444444444,
              "#bd3786"
             ],
             [
              0.5555555555555556,
              "#d8576b"
             ],
             [
              0.6666666666666666,
              "#ed7953"
             ],
             [
              0.7777777777777778,
              "#fb9f3a"
             ],
             [
              0.8888888888888888,
              "#fdca26"
             ],
             [
              1,
              "#f0f921"
             ]
            ],
            "type": "surface"
           }
          ],
          "table": [
           {
            "cells": {
             "fill": {
              "color": "#EBF0F8"
             },
             "line": {
              "color": "white"
             }
            },
            "header": {
             "fill": {
              "color": "#C8D4E3"
             },
             "line": {
              "color": "white"
             }
            },
            "type": "table"
           }
          ]
         },
         "layout": {
          "annotationdefaults": {
           "arrowcolor": "#2a3f5f",
           "arrowhead": 0,
           "arrowwidth": 1
          },
          "autotypenumbers": "strict",
          "coloraxis": {
           "colorbar": {
            "outlinewidth": 0,
            "ticks": ""
           }
          },
          "colorscale": {
           "diverging": [
            [
             0,
             "#8e0152"
            ],
            [
             0.1,
             "#c51b7d"
            ],
            [
             0.2,
             "#de77ae"
            ],
            [
             0.3,
             "#f1b6da"
            ],
            [
             0.4,
             "#fde0ef"
            ],
            [
             0.5,
             "#f7f7f7"
            ],
            [
             0.6,
             "#e6f5d0"
            ],
            [
             0.7,
             "#b8e186"
            ],
            [
             0.8,
             "#7fbc41"
            ],
            [
             0.9,
             "#4d9221"
            ],
            [
             1,
             "#276419"
            ]
           ],
           "sequential": [
            [
             0,
             "#0d0887"
            ],
            [
             0.1111111111111111,
             "#46039f"
            ],
            [
             0.2222222222222222,
             "#7201a8"
            ],
            [
             0.3333333333333333,
             "#9c179e"
            ],
            [
             0.4444444444444444,
             "#bd3786"
            ],
            [
             0.5555555555555556,
             "#d8576b"
            ],
            [
             0.6666666666666666,
             "#ed7953"
            ],
            [
             0.7777777777777778,
             "#fb9f3a"
            ],
            [
             0.8888888888888888,
             "#fdca26"
            ],
            [
             1,
             "#f0f921"
            ]
           ],
           "sequentialminus": [
            [
             0,
             "#0d0887"
            ],
            [
             0.1111111111111111,
             "#46039f"
            ],
            [
             0.2222222222222222,
             "#7201a8"
            ],
            [
             0.3333333333333333,
             "#9c179e"
            ],
            [
             0.4444444444444444,
             "#bd3786"
            ],
            [
             0.5555555555555556,
             "#d8576b"
            ],
            [
             0.6666666666666666,
             "#ed7953"
            ],
            [
             0.7777777777777778,
             "#fb9f3a"
            ],
            [
             0.8888888888888888,
             "#fdca26"
            ],
            [
             1,
             "#f0f921"
            ]
           ]
          },
          "colorway": [
           "#636efa",
           "#EF553B",
           "#00cc96",
           "#ab63fa",
           "#FFA15A",
           "#19d3f3",
           "#FF6692",
           "#B6E880",
           "#FF97FF",
           "#FECB52"
          ],
          "font": {
           "color": "#2a3f5f"
          },
          "geo": {
           "bgcolor": "white",
           "lakecolor": "white",
           "landcolor": "white",
           "showlakes": true,
           "showland": true,
           "subunitcolor": "#C8D4E3"
          },
          "hoverlabel": {
           "align": "left"
          },
          "hovermode": "closest",
          "mapbox": {
           "style": "light"
          },
          "paper_bgcolor": "white",
          "plot_bgcolor": "white",
          "polar": {
           "angularaxis": {
            "gridcolor": "#EBF0F8",
            "linecolor": "#EBF0F8",
            "ticks": ""
           },
           "bgcolor": "white",
           "radialaxis": {
            "gridcolor": "#EBF0F8",
            "linecolor": "#EBF0F8",
            "ticks": ""
           }
          },
          "scene": {
           "xaxis": {
            "backgroundcolor": "white",
            "gridcolor": "#DFE8F3",
            "gridwidth": 2,
            "linecolor": "#EBF0F8",
            "showbackground": true,
            "ticks": "",
            "zerolinecolor": "#EBF0F8"
           },
           "yaxis": {
            "backgroundcolor": "white",
            "gridcolor": "#DFE8F3",
            "gridwidth": 2,
            "linecolor": "#EBF0F8",
            "showbackground": true,
            "ticks": "",
            "zerolinecolor": "#EBF0F8"
           },
           "zaxis": {
            "backgroundcolor": "white",
            "gridcolor": "#DFE8F3",
            "gridwidth": 2,
            "linecolor": "#EBF0F8",
            "showbackground": true,
            "ticks": "",
            "zerolinecolor": "#EBF0F8"
           }
          },
          "shapedefaults": {
           "line": {
            "color": "#2a3f5f"
           }
          },
          "ternary": {
           "aaxis": {
            "gridcolor": "#DFE8F3",
            "linecolor": "#A2B1C6",
            "ticks": ""
           },
           "baxis": {
            "gridcolor": "#DFE8F3",
            "linecolor": "#A2B1C6",
            "ticks": ""
           },
           "bgcolor": "white",
           "caxis": {
            "gridcolor": "#DFE8F3",
            "linecolor": "#A2B1C6",
            "ticks": ""
           }
          },
          "title": {
           "x": 0.05
          },
          "xaxis": {
           "automargin": true,
           "gridcolor": "#EBF0F8",
           "linecolor": "#EBF0F8",
           "ticks": "",
           "title": {
            "standoff": 15
           },
           "zerolinecolor": "#EBF0F8",
           "zerolinewidth": 2
          },
          "yaxis": {
           "automargin": true,
           "gridcolor": "#EBF0F8",
           "linecolor": "#EBF0F8",
           "ticks": "",
           "title": {
            "standoff": 15
           },
           "zerolinecolor": "#EBF0F8",
           "zerolinewidth": 2
          }
         }
        },
        "title": {
         "text": "Transaction Volume on Non-Weekend Days"
        },
        "xaxis": {
         "title": {
          "text": "Date"
         }
        },
        "yaxis": {
         "title": {
          "text": "Number of Transactions"
         }
        }
       }
      }
     },
     "metadata": {},
     "output_type": "display_data"
    }
   ],
   "source": [
    "# line chart of count of transactions when TransactionDayOfWeek is not Monday, Saturday, or Sunday\n",
    "non_weekend_transactions = df[~df['TransactionDayOfWeek'].isin(['Monday', 'Saturday', 'Sunday'])].groupby(df['TransactionDate'].dt.date).size()\n",
    "\n",
    "fig = go.Figure()\n",
    "\n",
    "fig.add_trace(\n",
    "    go.Scatter(\n",
    "        x=non_weekend_transactions.index,\n",
    "        y=non_weekend_transactions.values,\n",
    "        mode='lines+markers',\n",
    "        name='Non-Weekend Transactions',\n",
    "        marker=dict(symbol='circle')\n",
    "    )\n",
    ")\n",
    "\n",
    "fig.update_layout(\n",
    "    title='Transaction Volume on Non-Weekend Days',\n",
    "    xaxis_title='Date',\n",
    "    yaxis_title='Number of Transactions',\n",
    "    legend_title='Legend',\n",
    "    template='plotly_white'\n",
    ")\n",
    "\n",
    "fig.show()"
   ]
  },
  {
   "cell_type": "markdown",
   "id": "93003964",
   "metadata": {},
   "source": [
    "#### User Demographics"
   ]
  },
  {
   "cell_type": "code",
   "execution_count": 27,
   "id": "ac8c8068",
   "metadata": {},
   "outputs": [
    {
     "data": {
      "image/png": "[encoded data removed]",
      "text/plain": [
       "<Figure size 1000x600 with 1 Axes>"
      ]
     },
     "metadata": {},
     "output_type": "display_data"
    }
   ],
   "source": [
    "# transaction behaviour by customer age group\n",
    "# create age bins\n",
    "age_bins = [0, 25, 35, 45, 55, 65, np.inf]\n",
    "age_labels = ['<25', '26-35', '36-45', '46-55', '56-65', '65+']\n",
    "df['AgeGroup'] = pd.cut(df['CustomerAge'], bins=age_bins, labels=age_labels, right=False)\n",
    "# plot transaction volume by age group\n",
    "plt.figure(figsize=(10, 6))\n",
    "sns.countplot(data=df, x='AgeGroup', order=age_labels)\n",
    "plt.title('Transaction Volume by Age Group')\n",
    "plt.xlabel('Age Group')\n",
    "plt.ylabel('Number of Transactions')\n",
    "plt.show()"
   ]
  },
  {
   "cell_type": "code",
   "execution_count": 28,
   "id": "4afb868b",
   "metadata": {},
   "outputs": [
    {
     "data": {
      "image/png": "[encoded data removed]",
      "text/plain": [
       "<Figure size 1200x600 with 1 Axes>"
      ]
     },
     "metadata": {},
     "output_type": "display_data"
    }
   ],
   "source": [
    "# occupation vs average transaction amount\n",
    "# bar plot\n",
    "plt.figure(figsize=(12, 6))\n",
    "sns.barplot(data=df, x='CustomerOccupation', y='TransactionAmount', estimator=np.mean, errorbar=None)\n",
    "plt.title('Average Transaction Amount by Occupation')\n",
    "plt.xlabel('Occupation')\n",
    "plt.ylabel('Average Transaction Amount')\n",
    "plt.show()"
   ]
  },
  {
   "cell_type": "markdown",
   "id": "c5e7f749",
   "metadata": {},
   "source": [
    "Channel & Location Behaviour"
   ]
  },
  {
   "cell_type": "code",
   "execution_count": 59,
   "id": "d10ea557",
   "metadata": {},
   "outputs": [
    {
     "data": {
      "image/png": "[encoded data removed]",
      "text/plain": [
       "<Figure size 1000x600 with 1 Axes>"
      ]
     },
     "metadata": {},
     "output_type": "display_data"
    }
   ],
   "source": [
    "# transacation count by channel\n",
    "# bar chart\n",
    "plt.figure(figsize=(10, 6))\n",
    "sns.countplot(data=df, x='Channel', order=df['Channel'].value_counts().index)\n",
    "plt.title('Transaction Count by Channel')\n",
    "plt.xlabel('Channel')\n",
    "plt.ylabel('Count')\n",
    "plt.show()"
   ]
  },
  {
   "cell_type": "code",
   "execution_count": 26,
   "id": "53367a65",
   "metadata": {},
   "outputs": [
    {
     "data": {
      "image/png": "[encoded data removed]",
      "text/plain": [
       "<Figure size 1200x600 with 1 Axes>"
      ]
     },
     "metadata": {},
     "output_type": "display_data"
    }
   ],
   "source": [
    "# average anount by channel\n",
    "# box plot\n",
    "plt.figure(figsize=(12, 6))\n",
    "sns.boxplot(data=df, x='TransactionAmount', y='Channel')\n",
    "plt.title('Transaction Amount by Channel')\n",
    "plt.xlabel('Transaction Amount')\n",
    "plt.ylabel('Channel')\n",
    "plt.show()"
   ]
  },
  {
   "cell_type": "code",
   "execution_count": 29,
   "id": "499e1511",
   "metadata": {},
   "outputs": [
    {
     "data": {
      "image/png": "[encoded data removed]",
      "text/plain": [
       "<Figure size 1200x600 with 1 Axes>"
      ]
     },
     "metadata": {},
     "output_type": "display_data"
    }
   ],
   "source": [
    "# top cities by transaction count\n",
    "# horizontal bar plot\n",
    "plt.figure(figsize=(12, 6))\n",
    "sns.countplot(data=df, y='Location', order=df['Location'].value_counts().index[:10])\n",
    "plt.title('Top 10 Cities by Transaction Count')\n",
    "plt.xlabel('Number of Transactions')\n",
    "plt.ylabel('City')\n",
    "plt.show()"
   ]
  },
  {
   "cell_type": "code",
   "execution_count": 30,
   "id": "72021f11",
   "metadata": {},
   "outputs": [
    {
     "data": {
      "image/png": "[encoded data removed]",
      "text/plain": [
       "<Figure size 1200x600 with 1 Axes>"
      ]
     },
     "metadata": {},
     "output_type": "display_data"
    }
   ],
   "source": [
    "# top cities by average transaction amount\n",
    "# horizontal bar plot\n",
    "plt.figure(figsize=(12, 6))\n",
    "sns.barplot(data=df, y='Location', x='TransactionAmount', estimator=np.mean, errorbar=None, order=df.groupby('Location')['TransactionAmount'].mean().nlargest(10).index)\n",
    "plt.title('Top 10 Cities by Average Transaction Amount')\n",
    "plt.xlabel('Average Transaction Amount')\n",
    "plt.ylabel('City')\n",
    "plt.show()"
   ]
  },
  {
   "cell_type": "markdown",
   "id": "450b29c4",
   "metadata": {},
   "source": [
    "#### Anomalies & Risk Indicators"
   ]
  },
  {
   "cell_type": "code",
   "execution_count": 33,
   "id": "27e84c08",
   "metadata": {},
   "outputs": [
    {
     "data": {
      "image/png": "[encoded data removed]",
      "text/plain": [
       "<Figure size 1000x600 with 1 Axes>"
      ]
     },
     "metadata": {},
     "output_type": "display_data"
    }
   ],
   "source": [
    "# login attempts distribution\n",
    "# bar chart of login attempt\n",
    "plt.figure(figsize=(10, 6))\n",
    "sns.countplot(data=df, x='LoginAttempts')\n",
    "plt.title('Login Attempts Distribution')\n",
    "plt.xlabel('Number of Login Attempts')\n",
    "plt.ylabel('Count')\n",
    "plt.show()"
   ]
  },
  {
   "cell_type": "code",
   "execution_count": 34,
   "id": "700422a0",
   "metadata": {},
   "outputs": [
    {
     "data": {
      "image/png": "[encoded data removed]",
      "text/plain": [
       "<Figure size 1000x600 with 1 Axes>"
      ]
     },
     "metadata": {},
     "output_type": "display_data"
    }
   ],
   "source": [
    "# login attempts distribution, excluding LoginAttempts = 1\n",
    "plt.figure(figsize=(10, 6))\n",
    "sns.countplot(data=df[df['LoginAttempts'] > 1], x='LoginAttempts')\n",
    "plt.title('Login Attempts Distribution (Excluding 1 Attempt)')\n",
    "plt.xlabel('Number of Login Attempts')\n",
    "plt.ylabel('Count')\n",
    "plt.show()"
   ]
  },
  {
   "cell_type": "code",
   "execution_count": 36,
   "id": "cf5ee7ca",
   "metadata": {},
   "outputs": [
    {
     "data": {
      "image/png": "[encoded data removed]",
      "text/plain": [
       "<Figure size 1000x600 with 1 Axes>"
      ]
     },
     "metadata": {},
     "output_type": "display_data"
    }
   ],
   "source": [
    "# login attempts vs transaction amount as a scatter plot\n",
    "plt.figure(figsize=(10, 6))\n",
    "sns.scatterplot(data=df, x='LoginAttempts', y='TransactionAmount')\n",
    "plt.title('Login Attempts vs Transaction Amount')\n",
    "plt.xlabel('Number of Login Attempts')\n",
    "plt.ylabel('Transaction Amount')\n",
    "plt.show()"
   ]
  },
  {
   "cell_type": "code",
   "execution_count": null,
   "id": "632d9948",
   "metadata": {},
   "outputs": [
    {
     "data": {
      "image/png": "[encoded data removed]",
      "text/plain": [
       "<Figure size 1000x600 with 1 Axes>"
      ]
     },
     "metadata": {},
     "output_type": "display_data"
    }
   ],
   "source": [
    "# deviceid usage per account\n",
    "# histogram of unique DeviceIDs per AccountID\n",
    "plt.figure(figsize=(10, 6))\n",
    "sns.histplot(df.groupby('AccountID')['DeviceID'].nunique(), bins=df['DeviceID'].value_counts().max(), kde=True)\n",
    "plt.title('Distribution of Unique Device IDs per Account ID')\n",
    "plt.xlabel('Number of Unique Device IDs')\n",
    "plt.ylabel('Frequency')\n",
    "plt.show()"
   ]
  },
  {
   "cell_type": "code",
   "execution_count": 49,
   "id": "751f536f",
   "metadata": {},
   "outputs": [
    {
     "data": {
      "image/png": "[encoded data removed]",
      "text/plain": [
       "<Figure size 1200x600 with 1 Axes>"
      ]
     },
     "metadata": {},
     "output_type": "display_data"
    }
   ],
   "source": [
    "# ip address changes per account\n",
    "# histogram of unique IP addresses per AccountID\n",
    "plt.figure(figsize=(12, 6))\n",
    "sns.histplot(df.groupby('AccountID')['IP Address'].nunique(), bins=df['DeviceID'].value_counts().max(), kde=True)\n",
    "plt.title('Distribution of Unique IP Addresses per Account ID')\n",
    "plt.xlabel('Number of Unique IP Addresses')\n",
    "plt.ylabel('Frequency')\n",
    "plt.show()"
   ]
  },
  {
   "cell_type": "code",
   "execution_count": 52,
   "id": "2c30169f",
   "metadata": {},
   "outputs": [
    {
     "data": {
      "image/png": "[encoded data removed]",
      "text/plain": [
       "<Figure size 1000x600 with 1 Axes>"
      ]
     },
     "metadata": {},
     "output_type": "display_data"
    }
   ],
   "source": [
    "# scatter plot of balance vs transaction amount\n",
    "plt.figure(figsize=(10, 6))\n",
    "sns.scatterplot(data=df, x='AccountBalance', y='TransactionAmount')\n",
    "plt.title('Account Balance vs Transaction Amount')\n",
    "plt.xlabel('Account Balance')\n",
    "plt.ylabel('Transaction Amount')\n",
    "plt.show()"
   ]
  },
  {
   "cell_type": "markdown",
   "id": "e3f121c6",
   "metadata": {},
   "source": [
    "#### Summary & Insights"
   ]
  },
  {
   "cell_type": "code",
   "execution_count": 56,
   "id": "99b99d84",
   "metadata": {},
   "outputs": [
    {
     "data": {
      "image/png": "[encoded data removed]",
      "text/plain": [
       "<Figure size 1200x800 with 2 Axes>"
      ]
     },
     "metadata": {},
     "output_type": "display_data"
    }
   ],
   "source": [
    "# calculate the correlation matrix for numerical features\n",
    "numerical_df = df.select_dtypes(include=['number'])\n",
    "correlation_matrix = numerical_df.corr()\n",
    "# plot the correlation matrix\n",
    "plt.figure(figsize=(12, 8))\n",
    "sns.heatmap(correlation_matrix, annot=True, fmt='.2f', cmap='coolwarm', square=True, cbar_kws={\"shrink\": .8})\n",
    "plt.title('Correlation Matrix of Numerical Features')\n",
    "plt.show()"
   ]
  }
 ],
 "metadata": {
  "kernelspec": {
   "display_name": "venv",
   "language": "python",
   "name": "python3"
  },
  "language_info": {
   "codemirror_mode": {
    "name": "ipython",
    "version": 3
   },
   "file_extension": ".py",
   "mimetype": "text/x-python",
   "name": "python",
   "nbconvert_exporter": "python",
   "pygments_lexer": "ipython3",
   "version": "3.13.2"
  }
 },
 "nbformat": 4,
 "nbformat_minor": 5
}
