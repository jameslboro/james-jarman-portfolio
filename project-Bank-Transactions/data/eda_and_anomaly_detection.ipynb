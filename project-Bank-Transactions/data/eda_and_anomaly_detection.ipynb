{
 "cells": [
  {
   "cell_type": "markdown",
   "id": "e679344f",
   "metadata": {},
   "source": [
    "##### Introduction & Objective"
   ]
  },
  {
   "cell_type": "markdown",
   "id": "0eef0fa9",
   "metadata": {},
   "source": [
    "Goal:"
   ]
  },
  {
   "cell_type": "markdown",
   "id": "666bdd0a",
   "metadata": {},
   "source": [
    "##### Data Loading & Initial Inspection"
   ]
  },
  {
   "cell_type": "code",
   "execution_count": 1,
   "id": "9bdd0dcd",
   "metadata": {},
   "outputs": [],
   "source": [
    "import pandas as pd\n",
    "import numpy as np\n",
    "import re"
   ]
  },
  {
   "cell_type": "code",
   "execution_count": 2,
   "id": "832aea37",
   "metadata": {},
   "outputs": [
    {
     "data": {
      "text/html": [
       "<div>\n",
       "<style scoped>\n",
       "    .dataframe tbody tr th:only-of-type {\n",
       "        vertical-align: middle;\n",
       "    }\n",
       "\n",
       "    .dataframe tbody tr th {\n",
       "        vertical-align: top;\n",
       "    }\n",
       "\n",
       "    .dataframe thead th {\n",
       "        text-align: right;\n",
       "    }\n",
       "</style>\n",
       "<table border=\"1\" class=\"dataframe\">\n",
       "  <thead>\n",
       "    <tr style=\"text-align: right;\">\n",
       "      <th></th>\n",
       "      <th>TransactionID</th>\n",
       "      <th>AccountID</th>\n",
       "      <th>TransactionAmount</th>\n",
       "      <th>TransactionDate</th>\n",
       "      <th>TransactionType</th>\n",
       "      <th>Location</th>\n",
       "      <th>DeviceID</th>\n",
       "      <th>IP Address</th>\n",
       "      <th>MerchantID</th>\n",
       "      <th>Channel</th>\n",
       "      <th>CustomerAge</th>\n",
       "      <th>CustomerOccupation</th>\n",
       "      <th>TransactionDuration</th>\n",
       "      <th>LoginAttempts</th>\n",
       "      <th>AccountBalance</th>\n",
       "      <th>PreviousTransactionDate</th>\n",
       "    </tr>\n",
       "  </thead>\n",
       "  <tbody>\n",
       "    <tr>\n",
       "      <th>0</th>\n",
       "      <td>TX000001</td>\n",
       "      <td>AC00128</td>\n",
       "      <td>14.09</td>\n",
       "      <td>2023-04-11 16:29:14</td>\n",
       "      <td>Debit</td>\n",
       "      <td>San Diego</td>\n",
       "      <td>D000380</td>\n",
       "      <td>162.198.218.92</td>\n",
       "      <td>M015</td>\n",
       "      <td>ATM</td>\n",
       "      <td>70</td>\n",
       "      <td>Doctor</td>\n",
       "      <td>81</td>\n",
       "      <td>1</td>\n",
       "      <td>5112.21</td>\n",
       "      <td>2024-11-04 08:08:08</td>\n",
       "    </tr>\n",
       "    <tr>\n",
       "      <th>1</th>\n",
       "      <td>TX000002</td>\n",
       "      <td>AC00455</td>\n",
       "      <td>376.24</td>\n",
       "      <td>2023-06-27 16:44:19</td>\n",
       "      <td>Debit</td>\n",
       "      <td>Houston</td>\n",
       "      <td>D000051</td>\n",
       "      <td>13.149.61.4</td>\n",
       "      <td>M052</td>\n",
       "      <td>ATM</td>\n",
       "      <td>68</td>\n",
       "      <td>Doctor</td>\n",
       "      <td>141</td>\n",
       "      <td>1</td>\n",
       "      <td>13758.91</td>\n",
       "      <td>2024-11-04 08:09:35</td>\n",
       "    </tr>\n",
       "    <tr>\n",
       "      <th>2</th>\n",
       "      <td>TX000003</td>\n",
       "      <td>AC00019</td>\n",
       "      <td>126.29</td>\n",
       "      <td>2023-07-10 18:16:08</td>\n",
       "      <td>Debit</td>\n",
       "      <td>Mesa</td>\n",
       "      <td>D000235</td>\n",
       "      <td>215.97.143.157</td>\n",
       "      <td>M009</td>\n",
       "      <td>Online</td>\n",
       "      <td>19</td>\n",
       "      <td>Student</td>\n",
       "      <td>56</td>\n",
       "      <td>1</td>\n",
       "      <td>1122.35</td>\n",
       "      <td>2024-11-04 08:07:04</td>\n",
       "    </tr>\n",
       "    <tr>\n",
       "      <th>3</th>\n",
       "      <td>TX000004</td>\n",
       "      <td>AC00070</td>\n",
       "      <td>184.50</td>\n",
       "      <td>2023-05-05 16:32:11</td>\n",
       "      <td>Debit</td>\n",
       "      <td>Raleigh</td>\n",
       "      <td>D000187</td>\n",
       "      <td>200.13.225.150</td>\n",
       "      <td>M002</td>\n",
       "      <td>Online</td>\n",
       "      <td>26</td>\n",
       "      <td>Student</td>\n",
       "      <td>25</td>\n",
       "      <td>1</td>\n",
       "      <td>8569.06</td>\n",
       "      <td>2024-11-04 08:09:06</td>\n",
       "    </tr>\n",
       "    <tr>\n",
       "      <th>4</th>\n",
       "      <td>TX000005</td>\n",
       "      <td>AC00411</td>\n",
       "      <td>13.45</td>\n",
       "      <td>2023-10-16 17:51:24</td>\n",
       "      <td>Credit</td>\n",
       "      <td>Atlanta</td>\n",
       "      <td>D000308</td>\n",
       "      <td>65.164.3.100</td>\n",
       "      <td>M091</td>\n",
       "      <td>Online</td>\n",
       "      <td>26</td>\n",
       "      <td>Student</td>\n",
       "      <td>198</td>\n",
       "      <td>1</td>\n",
       "      <td>7429.40</td>\n",
       "      <td>2024-11-04 08:06:39</td>\n",
       "    </tr>\n",
       "  </tbody>\n",
       "</table>\n",
       "</div>"
      ],
      "text/plain": [
       "  TransactionID AccountID  TransactionAmount      TransactionDate  \\\n",
       "0      TX000001   AC00128              14.09  2023-04-11 16:29:14   \n",
       "1      TX000002   AC00455             376.24  2023-06-27 16:44:19   \n",
       "2      TX000003   AC00019             126.29  2023-07-10 18:16:08   \n",
       "3      TX000004   AC00070             184.50  2023-05-05 16:32:11   \n",
       "4      TX000005   AC00411              13.45  2023-10-16 17:51:24   \n",
       "\n",
       "  TransactionType   Location DeviceID      IP Address MerchantID Channel  \\\n",
       "0           Debit  San Diego  D000380  162.198.218.92       M015     ATM   \n",
       "1           Debit    Houston  D000051     13.149.61.4       M052     ATM   \n",
       "2           Debit       Mesa  D000235  215.97.143.157       M009  Online   \n",
       "3           Debit    Raleigh  D000187  200.13.225.150       M002  Online   \n",
       "4          Credit    Atlanta  D000308    65.164.3.100       M091  Online   \n",
       "\n",
       "   CustomerAge CustomerOccupation  TransactionDuration  LoginAttempts  \\\n",
       "0           70             Doctor                   81              1   \n",
       "1           68             Doctor                  141              1   \n",
       "2           19            Student                   56              1   \n",
       "3           26            Student                   25              1   \n",
       "4           26            Student                  198              1   \n",
       "\n",
       "   AccountBalance PreviousTransactionDate  \n",
       "0         5112.21     2024-11-04 08:08:08  \n",
       "1        13758.91     2024-11-04 08:09:35  \n",
       "2         1122.35     2024-11-04 08:07:04  \n",
       "3         8569.06     2024-11-04 08:09:06  \n",
       "4         7429.40     2024-11-04 08:06:39  "
      ]
     },
     "execution_count": 2,
     "metadata": {},
     "output_type": "execute_result"
    }
   ],
   "source": [
    "# read the CSV file\n",
    "df = pd.read_csv('bank_transactions_data.csv')\n",
    "# display the first few rows of the dataframe\n",
    "df.head()"
   ]
  },
  {
   "cell_type": "code",
   "execution_count": 3,
   "id": "c880186d",
   "metadata": {},
   "outputs": [
    {
     "name": "stdout",
     "output_type": "stream",
     "text": [
      "<class 'pandas.core.frame.DataFrame'>\n",
      "RangeIndex: 2512 entries, 0 to 2511\n",
      "Data columns (total 16 columns):\n",
      " #   Column                   Non-Null Count  Dtype  \n",
      "---  ------                   --------------  -----  \n",
      " 0   TransactionID            2512 non-null   object \n",
      " 1   AccountID                2512 non-null   object \n",
      " 2   TransactionAmount        2512 non-null   float64\n",
      " 3   TransactionDate          2512 non-null   object \n",
      " 4   TransactionType          2512 non-null   object \n",
      " 5   Location                 2512 non-null   object \n",
      " 6   DeviceID                 2512 non-null   object \n",
      " 7   IP Address               2512 non-null   object \n",
      " 8   MerchantID               2512 non-null   object \n",
      " 9   Channel                  2512 non-null   object \n",
      " 10  CustomerAge              2512 non-null   int64  \n",
      " 11  CustomerOccupation       2512 non-null   object \n",
      " 12  TransactionDuration      2512 non-null   int64  \n",
      " 13  LoginAttempts            2512 non-null   int64  \n",
      " 14  AccountBalance           2512 non-null   float64\n",
      " 15  PreviousTransactionDate  2512 non-null   object \n",
      "dtypes: float64(2), int64(3), object(11)\n",
      "memory usage: 314.1+ KB\n"
     ]
    }
   ],
   "source": [
    "# inspect the info of the dataframe\n",
    "df.info()"
   ]
  },
  {
   "cell_type": "code",
   "execution_count": 4,
   "id": "d42ed050",
   "metadata": {},
   "outputs": [
    {
     "name": "stdout",
     "output_type": "stream",
     "text": [
      "Data type of TransactionDate is now: datetime64[ns]\n",
      "Data type of PreviousTransactionDate is now: datetime64[ns]\n"
     ]
    }
   ],
   "source": [
    "# change the data type of the 'TransactionDate' column to datetime with format year-month-day hour-minute-second\n",
    "df['TransactionDate'] = pd.to_datetime(df['TransactionDate'], format='%Y-%m-%d %H:%M:%S')\n",
    "print('Data type of TransactionDate is now:', df['TransactionDate'].dtype)\n",
    "# change the data type of the 'PreviousTransactionDate' column to datetime with format year-month-day hour-minute-second\n",
    "df['PreviousTransactionDate'] = pd.to_datetime(df['PreviousTransactionDate'], format='%Y-%m-%d %H:%M:%S')\n",
    "print('Data type of PreviousTransactionDate is now:',df['PreviousTransactionDate'].dtype)"
   ]
  },
  {
   "cell_type": "code",
   "execution_count": 5,
   "id": "55150bb0",
   "metadata": {},
   "outputs": [
    {
     "name": "stdout",
     "output_type": "stream",
     "text": [
      "TransactionID              0\n",
      "AccountID                  0\n",
      "TransactionAmount          0\n",
      "TransactionDate            0\n",
      "TransactionType            0\n",
      "Location                   0\n",
      "DeviceID                   0\n",
      "IP Address                 0\n",
      "MerchantID                 0\n",
      "Channel                    0\n",
      "CustomerAge                0\n",
      "CustomerOccupation         0\n",
      "TransactionDuration        0\n",
      "LoginAttempts              0\n",
      "AccountBalance             0\n",
      "PreviousTransactionDate    0\n",
      "dtype: int64\n"
     ]
    }
   ],
   "source": [
    "# check for missing values\n",
    "print(df.isnull().sum())"
   ]
  },
  {
   "cell_type": "code",
   "execution_count": 6,
   "id": "b3970492",
   "metadata": {},
   "outputs": [
    {
     "name": "stdout",
     "output_type": "stream",
     "text": [
      "Number of exact duplicates: 0\n"
     ]
    }
   ],
   "source": [
    "# check for duplicates\n",
    "print('Number of exact duplicates:',df.duplicated().sum())"
   ]
  },
  {
   "cell_type": "code",
   "execution_count": 7,
   "id": "a31e5e5c",
   "metadata": {},
   "outputs": [
    {
     "name": "stdout",
     "output_type": "stream",
     "text": [
      "0\n"
     ]
    }
   ],
   "source": [
    "# check for duplicates in key transaction features (excluding TransactionID)\n",
    "duplicates = df.duplicated(subset=['AccountID', 'TransactionAmount', 'TransactionDate']).sum()\n",
    "print(duplicates)"
   ]
  },
  {
   "cell_type": "code",
   "execution_count": 8,
   "id": "8f7fdd83",
   "metadata": {},
   "outputs": [
    {
     "name": "stdout",
     "output_type": "stream",
     "text": [
      "TransactionID: 2512 unique values\n",
      "AccountID: 495 unique values\n",
      "TransactionAmount: 2455 unique values\n",
      "TransactionDate: 2512 unique values\n",
      "TransactionType: 2 unique values\n",
      "Location: 43 unique values\n",
      "DeviceID: 681 unique values\n",
      "IP Address: 592 unique values\n",
      "MerchantID: 100 unique values\n",
      "Channel: 3 unique values\n",
      "CustomerAge: 63 unique values\n",
      "CustomerOccupation: 4 unique values\n",
      "TransactionDuration: 288 unique values\n",
      "LoginAttempts: 5 unique values\n",
      "AccountBalance: 2510 unique values\n",
      "PreviousTransactionDate: 360 unique values\n"
     ]
    }
   ],
   "source": [
    "# check for unique values in each column\n",
    "for col in df.columns:\n",
    "    print(f\"{col}: {df[col].nunique()} unique values\")"
   ]
  },
  {
   "cell_type": "code",
   "execution_count": 9,
   "id": "c73459a8",
   "metadata": {},
   "outputs": [
    {
     "name": "stdout",
     "output_type": "stream",
     "text": [
      "Data type of TransactionType is now: category\n",
      "Data type of Channel is now: category\n"
     ]
    }
   ],
   "source": [
    "#change the data type of the 'TransactionType' column to category\n",
    "df['TransactionType'] = df['TransactionType'].astype('category')\n",
    "print('Data type of TransactionType is now:',df['TransactionType'].dtype)\n",
    "# change the data type of the 'Channel' column to category\n",
    "df['Channel'] = df['Channel'].astype('category')\n",
    "print('Data type of Channel is now:',df['Channel'].dtype)"
   ]
  },
  {
   "cell_type": "code",
   "execution_count": 10,
   "id": "2c0cb702",
   "metadata": {},
   "outputs": [
    {
     "data": {
      "text/html": [
       "<div>\n",
       "<style scoped>\n",
       "    .dataframe tbody tr th:only-of-type {\n",
       "        vertical-align: middle;\n",
       "    }\n",
       "\n",
       "    .dataframe tbody tr th {\n",
       "        vertical-align: top;\n",
       "    }\n",
       "\n",
       "    .dataframe thead th {\n",
       "        text-align: right;\n",
       "    }\n",
       "</style>\n",
       "<table border=\"1\" class=\"dataframe\">\n",
       "  <thead>\n",
       "    <tr style=\"text-align: right;\">\n",
       "      <th></th>\n",
       "      <th>TransactionID</th>\n",
       "      <th>AccountID</th>\n",
       "      <th>TransactionAmount</th>\n",
       "      <th>TransactionDate</th>\n",
       "      <th>TransactionType</th>\n",
       "      <th>Location</th>\n",
       "      <th>DeviceID</th>\n",
       "      <th>IP Address</th>\n",
       "      <th>MerchantID</th>\n",
       "      <th>Channel</th>\n",
       "      <th>CustomerAge</th>\n",
       "      <th>CustomerOccupation</th>\n",
       "      <th>TransactionDuration</th>\n",
       "      <th>LoginAttempts</th>\n",
       "      <th>AccountBalance</th>\n",
       "      <th>PreviousTransactionDate</th>\n",
       "    </tr>\n",
       "  </thead>\n",
       "  <tbody>\n",
       "    <tr>\n",
       "      <th>count</th>\n",
       "      <td>2512</td>\n",
       "      <td>2512</td>\n",
       "      <td>2512.000000</td>\n",
       "      <td>2512</td>\n",
       "      <td>2512</td>\n",
       "      <td>2512</td>\n",
       "      <td>2512</td>\n",
       "      <td>2512</td>\n",
       "      <td>2512</td>\n",
       "      <td>2512</td>\n",
       "      <td>2512.000000</td>\n",
       "      <td>2512</td>\n",
       "      <td>2512.000000</td>\n",
       "      <td>2512.000000</td>\n",
       "      <td>2512.000000</td>\n",
       "      <td>2512</td>\n",
       "    </tr>\n",
       "    <tr>\n",
       "      <th>unique</th>\n",
       "      <td>2512</td>\n",
       "      <td>495</td>\n",
       "      <td>NaN</td>\n",
       "      <td>NaN</td>\n",
       "      <td>2</td>\n",
       "      <td>43</td>\n",
       "      <td>681</td>\n",
       "      <td>592</td>\n",
       "      <td>100</td>\n",
       "      <td>3</td>\n",
       "      <td>NaN</td>\n",
       "      <td>4</td>\n",
       "      <td>NaN</td>\n",
       "      <td>NaN</td>\n",
       "      <td>NaN</td>\n",
       "      <td>NaN</td>\n",
       "    </tr>\n",
       "    <tr>\n",
       "      <th>top</th>\n",
       "      <td>TX002496</td>\n",
       "      <td>AC00460</td>\n",
       "      <td>NaN</td>\n",
       "      <td>NaN</td>\n",
       "      <td>Debit</td>\n",
       "      <td>Fort Worth</td>\n",
       "      <td>D000548</td>\n",
       "      <td>200.136.146.93</td>\n",
       "      <td>M026</td>\n",
       "      <td>Branch</td>\n",
       "      <td>NaN</td>\n",
       "      <td>Student</td>\n",
       "      <td>NaN</td>\n",
       "      <td>NaN</td>\n",
       "      <td>NaN</td>\n",
       "      <td>NaN</td>\n",
       "    </tr>\n",
       "    <tr>\n",
       "      <th>freq</th>\n",
       "      <td>1</td>\n",
       "      <td>12</td>\n",
       "      <td>NaN</td>\n",
       "      <td>NaN</td>\n",
       "      <td>1944</td>\n",
       "      <td>70</td>\n",
       "      <td>9</td>\n",
       "      <td>13</td>\n",
       "      <td>45</td>\n",
       "      <td>868</td>\n",
       "      <td>NaN</td>\n",
       "      <td>657</td>\n",
       "      <td>NaN</td>\n",
       "      <td>NaN</td>\n",
       "      <td>NaN</td>\n",
       "      <td>NaN</td>\n",
       "    </tr>\n",
       "    <tr>\n",
       "      <th>mean</th>\n",
       "      <td>NaN</td>\n",
       "      <td>NaN</td>\n",
       "      <td>297.593778</td>\n",
       "      <td>2023-07-05 20:32:10.826433024</td>\n",
       "      <td>NaN</td>\n",
       "      <td>NaN</td>\n",
       "      <td>NaN</td>\n",
       "      <td>NaN</td>\n",
       "      <td>NaN</td>\n",
       "      <td>NaN</td>\n",
       "      <td>44.673965</td>\n",
       "      <td>NaN</td>\n",
       "      <td>119.643312</td>\n",
       "      <td>1.124602</td>\n",
       "      <td>5114.302966</td>\n",
       "      <td>2024-11-04 08:09:22.219745024</td>\n",
       "    </tr>\n",
       "    <tr>\n",
       "      <th>min</th>\n",
       "      <td>NaN</td>\n",
       "      <td>NaN</td>\n",
       "      <td>0.260000</td>\n",
       "      <td>2023-01-02 16:00:06</td>\n",
       "      <td>NaN</td>\n",
       "      <td>NaN</td>\n",
       "      <td>NaN</td>\n",
       "      <td>NaN</td>\n",
       "      <td>NaN</td>\n",
       "      <td>NaN</td>\n",
       "      <td>18.000000</td>\n",
       "      <td>NaN</td>\n",
       "      <td>10.000000</td>\n",
       "      <td>1.000000</td>\n",
       "      <td>101.250000</td>\n",
       "      <td>2024-11-04 08:06:23</td>\n",
       "    </tr>\n",
       "    <tr>\n",
       "      <th>25%</th>\n",
       "      <td>NaN</td>\n",
       "      <td>NaN</td>\n",
       "      <td>81.885000</td>\n",
       "      <td>2023-04-03 16:22:05.750000128</td>\n",
       "      <td>NaN</td>\n",
       "      <td>NaN</td>\n",
       "      <td>NaN</td>\n",
       "      <td>NaN</td>\n",
       "      <td>NaN</td>\n",
       "      <td>NaN</td>\n",
       "      <td>27.000000</td>\n",
       "      <td>NaN</td>\n",
       "      <td>63.000000</td>\n",
       "      <td>1.000000</td>\n",
       "      <td>1504.370000</td>\n",
       "      <td>2024-11-04 08:07:53</td>\n",
       "    </tr>\n",
       "    <tr>\n",
       "      <th>50%</th>\n",
       "      <td>NaN</td>\n",
       "      <td>NaN</td>\n",
       "      <td>211.140000</td>\n",
       "      <td>2023-07-07 17:49:43.500000</td>\n",
       "      <td>NaN</td>\n",
       "      <td>NaN</td>\n",
       "      <td>NaN</td>\n",
       "      <td>NaN</td>\n",
       "      <td>NaN</td>\n",
       "      <td>NaN</td>\n",
       "      <td>45.000000</td>\n",
       "      <td>NaN</td>\n",
       "      <td>112.500000</td>\n",
       "      <td>1.000000</td>\n",
       "      <td>4735.510000</td>\n",
       "      <td>2024-11-04 08:09:22</td>\n",
       "    </tr>\n",
       "    <tr>\n",
       "      <th>75%</th>\n",
       "      <td>NaN</td>\n",
       "      <td>NaN</td>\n",
       "      <td>414.527500</td>\n",
       "      <td>2023-10-06 18:40:53.500000</td>\n",
       "      <td>NaN</td>\n",
       "      <td>NaN</td>\n",
       "      <td>NaN</td>\n",
       "      <td>NaN</td>\n",
       "      <td>NaN</td>\n",
       "      <td>NaN</td>\n",
       "      <td>59.000000</td>\n",
       "      <td>NaN</td>\n",
       "      <td>161.000000</td>\n",
       "      <td>1.000000</td>\n",
       "      <td>7678.820000</td>\n",
       "      <td>2024-11-04 08:10:53.249999872</td>\n",
       "    </tr>\n",
       "    <tr>\n",
       "      <th>max</th>\n",
       "      <td>NaN</td>\n",
       "      <td>NaN</td>\n",
       "      <td>1919.110000</td>\n",
       "      <td>2024-01-01 18:21:50</td>\n",
       "      <td>NaN</td>\n",
       "      <td>NaN</td>\n",
       "      <td>NaN</td>\n",
       "      <td>NaN</td>\n",
       "      <td>NaN</td>\n",
       "      <td>NaN</td>\n",
       "      <td>80.000000</td>\n",
       "      <td>NaN</td>\n",
       "      <td>300.000000</td>\n",
       "      <td>5.000000</td>\n",
       "      <td>14977.990000</td>\n",
       "      <td>2024-11-04 08:12:23</td>\n",
       "    </tr>\n",
       "    <tr>\n",
       "      <th>std</th>\n",
       "      <td>NaN</td>\n",
       "      <td>NaN</td>\n",
       "      <td>291.946243</td>\n",
       "      <td>NaN</td>\n",
       "      <td>NaN</td>\n",
       "      <td>NaN</td>\n",
       "      <td>NaN</td>\n",
       "      <td>NaN</td>\n",
       "      <td>NaN</td>\n",
       "      <td>NaN</td>\n",
       "      <td>17.792198</td>\n",
       "      <td>NaN</td>\n",
       "      <td>69.963757</td>\n",
       "      <td>0.602662</td>\n",
       "      <td>3900.942499</td>\n",
       "      <td>NaN</td>\n",
       "    </tr>\n",
       "  </tbody>\n",
       "</table>\n",
       "</div>"
      ],
      "text/plain": [
       "       TransactionID AccountID  TransactionAmount  \\\n",
       "count           2512      2512        2512.000000   \n",
       "unique          2512       495                NaN   \n",
       "top         TX002496   AC00460                NaN   \n",
       "freq               1        12                NaN   \n",
       "mean             NaN       NaN         297.593778   \n",
       "min              NaN       NaN           0.260000   \n",
       "25%              NaN       NaN          81.885000   \n",
       "50%              NaN       NaN         211.140000   \n",
       "75%              NaN       NaN         414.527500   \n",
       "max              NaN       NaN        1919.110000   \n",
       "std              NaN       NaN         291.946243   \n",
       "\n",
       "                      TransactionDate TransactionType    Location DeviceID  \\\n",
       "count                            2512            2512        2512     2512   \n",
       "unique                            NaN               2          43      681   \n",
       "top                               NaN           Debit  Fort Worth  D000548   \n",
       "freq                              NaN            1944          70        9   \n",
       "mean    2023-07-05 20:32:10.826433024             NaN         NaN      NaN   \n",
       "min               2023-01-02 16:00:06             NaN         NaN      NaN   \n",
       "25%     2023-04-03 16:22:05.750000128             NaN         NaN      NaN   \n",
       "50%        2023-07-07 17:49:43.500000             NaN         NaN      NaN   \n",
       "75%        2023-10-06 18:40:53.500000             NaN         NaN      NaN   \n",
       "max               2024-01-01 18:21:50             NaN         NaN      NaN   \n",
       "std                               NaN             NaN         NaN      NaN   \n",
       "\n",
       "            IP Address MerchantID Channel  CustomerAge CustomerOccupation  \\\n",
       "count             2512       2512    2512  2512.000000               2512   \n",
       "unique             592        100       3          NaN                  4   \n",
       "top     200.136.146.93       M026  Branch          NaN            Student   \n",
       "freq                13         45     868          NaN                657   \n",
       "mean               NaN        NaN     NaN    44.673965                NaN   \n",
       "min                NaN        NaN     NaN    18.000000                NaN   \n",
       "25%                NaN        NaN     NaN    27.000000                NaN   \n",
       "50%                NaN        NaN     NaN    45.000000                NaN   \n",
       "75%                NaN        NaN     NaN    59.000000                NaN   \n",
       "max                NaN        NaN     NaN    80.000000                NaN   \n",
       "std                NaN        NaN     NaN    17.792198                NaN   \n",
       "\n",
       "        TransactionDuration  LoginAttempts  AccountBalance  \\\n",
       "count           2512.000000    2512.000000     2512.000000   \n",
       "unique                  NaN            NaN             NaN   \n",
       "top                     NaN            NaN             NaN   \n",
       "freq                    NaN            NaN             NaN   \n",
       "mean             119.643312       1.124602     5114.302966   \n",
       "min               10.000000       1.000000      101.250000   \n",
       "25%               63.000000       1.000000     1504.370000   \n",
       "50%              112.500000       1.000000     4735.510000   \n",
       "75%              161.000000       1.000000     7678.820000   \n",
       "max              300.000000       5.000000    14977.990000   \n",
       "std               69.963757       0.602662     3900.942499   \n",
       "\n",
       "              PreviousTransactionDate  \n",
       "count                            2512  \n",
       "unique                            NaN  \n",
       "top                               NaN  \n",
       "freq                              NaN  \n",
       "mean    2024-11-04 08:09:22.219745024  \n",
       "min               2024-11-04 08:06:23  \n",
       "25%               2024-11-04 08:07:53  \n",
       "50%               2024-11-04 08:09:22  \n",
       "75%     2024-11-04 08:10:53.249999872  \n",
       "max               2024-11-04 08:12:23  \n",
       "std                               NaN  "
      ]
     },
     "execution_count": 10,
     "metadata": {},
     "output_type": "execute_result"
    }
   ],
   "source": [
    "# describe the data with all columns included\n",
    "df.describe(include='all')"
   ]
  },
  {
   "cell_type": "markdown",
   "id": "a5bb34d0",
   "metadata": {},
   "source": [
    "##### Data Cleaning"
   ]
  },
  {
   "cell_type": "code",
   "execution_count": 11,
   "id": "ee425646",
   "metadata": {},
   "outputs": [
    {
     "data": {
      "text/plain": [
       "array(['San Diego', 'Houston', 'Mesa', 'Raleigh', 'Atlanta',\n",
       "       'Oklahoma City', 'Seattle', 'Indianapolis', 'Detroit', 'Nashville',\n",
       "       'Albuquerque', 'Memphis', 'Louisville', 'Denver', 'Austin',\n",
       "       'Columbus', 'Los Angeles', 'Las Vegas', 'Fort Worth', 'Miami',\n",
       "       'Milwaukee', 'Baltimore', 'New York', 'San Francisco', 'San Jose',\n",
       "       'San Antonio', 'Philadelphia', 'Charlotte', 'Tucson', 'Chicago',\n",
       "       'Sacramento', 'Kansas City', 'Omaha', 'Virginia Beach', 'Dallas',\n",
       "       'Boston', 'Jacksonville', 'Phoenix', 'Washington', 'El Paso',\n",
       "       'Colorado Springs', 'Fresno', 'Portland'], dtype=object)"
      ]
     },
     "execution_count": 11,
     "metadata": {},
     "output_type": "execute_result"
    }
   ],
   "source": [
    "# check location column for formatting issues\n",
    "df['Location'].unique()"
   ]
  },
  {
   "cell_type": "code",
   "execution_count": 12,
   "id": "129b5bf9",
   "metadata": {},
   "outputs": [
    {
     "data": {
      "text/plain": [
       "IsValidIP\n",
       "True    2512\n",
       "Name: count, dtype: int64"
      ]
     },
     "execution_count": 12,
     "metadata": {},
     "output_type": "execute_result"
    }
   ],
   "source": [
    "# validate the format of the IP address in the 'IP Address' column\n",
    "# The regex pattern checks for four groups of 1 to 3 digits separated by dots, ensuring that each group is between 0 and 255.\n",
    "df['IsValidIP'] = df['IP Address'].apply(lambda x: bool(re.match(r'^\\d{1,3}(\\.\\d{1,3}){3}$', x)))\n",
    "df['IsValidIP'].value_counts()"
   ]
  },
  {
   "cell_type": "code",
   "execution_count": 13,
   "id": "6346c925",
   "metadata": {},
   "outputs": [
    {
     "name": "stdout",
     "output_type": "stream",
     "text": [
      "      TransactionDate  TransactionHour\n",
      "0 2023-04-11 16:29:14               16\n",
      "1 2023-06-27 16:44:19               16\n",
      "2 2023-07-10 18:16:08               18\n",
      "3 2023-05-05 16:32:11               16\n",
      "4 2023-10-16 17:51:24               17\n"
     ]
    }
   ],
   "source": [
    "# extract the hour from the 'TransactionDate' column and create a new column 'TransactionHour'\n",
    "df['TransactionHour'] = df['TransactionDate'].dt.hour\n",
    "print(df[['TransactionDate', 'TransactionHour']].head())"
   ]
  },
  {
   "cell_type": "code",
   "execution_count": 14,
   "id": "76e54170",
   "metadata": {},
   "outputs": [
    {
     "name": "stdout",
     "output_type": "stream",
     "text": [
      "The 90th percentile for TransactionAmount is: 701.3120000000004\n",
      "   TransactionAmount  IsHighValueTransaction\n",
      "0              14.09                   False\n",
      "1             376.24                   False\n",
      "2             126.29                   False\n",
      "3             184.50                   False\n",
      "4              13.45                   False\n"
     ]
    }
   ],
   "source": [
    "# create a new column for high-value transactions\n",
    "# Assuming high-value transactions are defined as those in the top 10% of transaction amounts\n",
    "high_value_threshold = df['TransactionAmount'].quantile(0.90)\n",
    "print(f\"The 90th percentile for TransactionAmount is: {high_value_threshold}\")\n",
    "\n",
    "df['IsHighValueTransaction'] = df['TransactionAmount'] > high_value_threshold\n",
    "\n",
    "print(df[['TransactionAmount', 'IsHighValueTransaction']].head())"
   ]
  },
  {
   "cell_type": "code",
   "execution_count": 15,
   "id": "2215e4f5",
   "metadata": {},
   "outputs": [
    {
     "data": {
      "text/plain": [
       "count    2512.000000\n",
       "mean      486.857882\n",
       "std       106.378910\n",
       "min       307.000000\n",
       "25%       394.000000\n",
       "50%       485.000000\n",
       "75%       580.000000\n",
       "max       671.000000\n",
       "Name: DaysBetweenTransactions, dtype: float64"
      ]
     },
     "execution_count": 15,
     "metadata": {},
     "output_type": "execute_result"
    }
   ],
   "source": [
    "# calculate days between transaction date and previous transaction date\n",
    "df['DaysBetweenTransactions'] = (df['PreviousTransactionDate'] - df['TransactionDate']).dt.days\n",
    "df['DaysBetweenTransactions'].describe()"
   ]
  },
  {
   "cell_type": "markdown",
   "id": "067e73ba",
   "metadata": {},
   "source": [
    "##### Exploratory Data Analysis (EDA)"
   ]
  },
  {
   "cell_type": "code",
   "execution_count": 16,
   "id": "14d4fbeb",
   "metadata": {},
   "outputs": [
    {
     "data": {
      "image/png": "[encoded data removed]",
      "text/plain": [
       "<Figure size 640x480 with 1 Axes>"
      ]
     },
     "metadata": {},
     "output_type": "display_data"
    }
   ],
   "source": [
    "import matplotlib.pyplot as plt\n",
    "\n",
    "plt.hist(df['TransactionAmount'], bins=30, color='skyblue', edgecolor='black')\n",
    "plt.axvline(high_value_threshold, color='red', linestyle='dashed', linewidth=2, label='90th Percentile')\n",
    "plt.title('Transaction Amount Distribution')\n",
    "plt.xlabel('Transaction Amount')\n",
    "plt.ylabel('Frequency')\n",
    "plt.legend()\n",
    "plt.show()\n"
   ]
  }
 ],
 "metadata": {
  "kernelspec": {
   "display_name": "venv",
   "language": "python",
   "name": "python3"
  },
  "language_info": {
   "codemirror_mode": {
    "name": "ipython",
    "version": 3
   },
   "file_extension": ".py",
   "mimetype": "text/x-python",
   "name": "python",
   "nbconvert_exporter": "python",
   "pygments_lexer": "ipython3",
   "version": "3.13.2"
  }
 },
 "nbformat": 4,
 "nbformat_minor": 5
}
